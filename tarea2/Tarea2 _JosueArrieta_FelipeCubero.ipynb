{
 "cells": [
  {
   "cell_type": "markdown",
   "metadata": {},
   "source": [
    "# PARTE I TUTORIAL PANDAS"
   ]
  },
  {
   "cell_type": "markdown",
   "metadata": {},
   "source": [
    "Este es un tutorial de algunos de los comandos básicos usandos en librería de python pandas para el análisis de datos\n",
    "\n",
    "Primero importamos las librerías necesarias para usar las funciones de pandas"
   ]
  },
  {
   "cell_type": "code",
   "execution_count": 1,
   "metadata": {},
   "outputs": [],
   "source": [
    "import pandas as pd\n",
    "import numpy as np"
   ]
  },
  {
   "cell_type": "markdown",
   "metadata": {},
   "source": [
    "## Series\n",
    "\n",
    "Series es una de las formas básicas de representación de datos en Pandas. Estás son lista en una dimension que puede incluir elementos de cualquier tipo \n",
    "\n",
    "Forma básica de crear una serie:"
   ]
  },
  {
   "cell_type": "code",
   "execution_count": 2,
   "metadata": {},
   "outputs": [
    {
     "name": "stdout",
     "output_type": "stream",
     "text": [
      "0    1\n",
      "1    2\n",
      "2    3\n",
      "3    4\n",
      "4    5\n",
      "dtype: int64\n"
     ]
    }
   ],
   "source": [
    "data = [1,2,3,4,5]\n",
    "ser = pd.Series(data)\n",
    "print(ser)"
   ]
  },
  {
   "cell_type": "markdown",
   "metadata": {},
   "source": [
    "Como se observa en el ejemplo anterior la primera columna corresponde a la indexación y la segunda columna a los datos de la serie. La última linea corresponde al tipo de datos, como no se definio al crear la lista se toma el mismo valor que los datos de entrada de la serie. \n"
   ]
  },
  {
   "cell_type": "markdown",
   "metadata": {},
   "source": [
    "Obtener elemento de una serie por indexación"
   ]
  },
  {
   "cell_type": "code",
   "execution_count": 3,
   "metadata": {},
   "outputs": [
    {
     "data": {
      "text/plain": [
       "4"
      ]
     },
     "execution_count": 3,
     "metadata": {},
     "output_type": "execute_result"
    }
   ],
   "source": [
    "ser[3]"
   ]
  },
  {
   "cell_type": "markdown",
   "metadata": {},
   "source": [
    "Se puede crear indexacion por etiquetas"
   ]
  },
  {
   "cell_type": "code",
   "execution_count": 4,
   "metadata": {},
   "outputs": [
    {
     "name": "stdout",
     "output_type": "stream",
     "text": [
      "a    1\n",
      "b    2\n",
      "c    3\n",
      "d    4\n",
      "e    5\n",
      "dtype: int64\n"
     ]
    },
    {
     "data": {
      "text/plain": [
       "3"
      ]
     },
     "execution_count": 4,
     "metadata": {},
     "output_type": "execute_result"
    }
   ],
   "source": [
    "ser2 = pd.Series(data, index=['a','b','c','d','e'])\n",
    "print(ser2)\n",
    "ser2['c']"
   ]
  },
  {
   "cell_type": "markdown",
   "metadata": {},
   "source": [
    "Se pueden realizar operaciones matemáticas sobre la serie"
   ]
  },
  {
   "cell_type": "code",
   "execution_count": 5,
   "metadata": {},
   "outputs": [
    {
     "data": {
      "text/plain": [
       "a    False\n",
       "b    False\n",
       "c     True\n",
       "d     True\n",
       "e     True\n",
       "dtype: bool"
      ]
     },
     "execution_count": 5,
     "metadata": {},
     "output_type": "execute_result"
    }
   ],
   "source": [
    "ser2 > 2"
   ]
  },
  {
   "cell_type": "code",
   "execution_count": 6,
   "metadata": {},
   "outputs": [
    {
     "data": {
      "text/plain": [
       "c    3\n",
       "d    4\n",
       "e    5\n",
       "dtype: int64"
      ]
     },
     "execution_count": 6,
     "metadata": {},
     "output_type": "execute_result"
    }
   ],
   "source": [
    "ser2[ser2 > 2]"
   ]
  },
  {
   "cell_type": "code",
   "execution_count": 7,
   "metadata": {},
   "outputs": [
    {
     "data": {
      "text/plain": [
       "a     5\n",
       "b    10\n",
       "c    15\n",
       "d    20\n",
       "e    25\n",
       "dtype: int64"
      ]
     },
     "execution_count": 7,
     "metadata": {},
     "output_type": "execute_result"
    }
   ],
   "source": [
    "ser2*5"
   ]
  },
  {
   "cell_type": "markdown",
   "metadata": {},
   "source": [
    "Otra forma de indexación:"
   ]
  },
  {
   "cell_type": "code",
   "execution_count": 8,
   "metadata": {},
   "outputs": [
    {
     "name": "stdout",
     "output_type": "stream",
     "text": [
      "a    1\n",
      "b    2\n",
      "c    3\n",
      "d    4\n",
      "e    5\n",
      "dtype: int64\n"
     ]
    }
   ],
   "source": [
    "ser3 = pd.Series({'a':1,'b':2,'c':3,'d':4,'e':5})\n",
    "print(ser3)"
   ]
  },
  {
   "cell_type": "markdown",
   "metadata": {},
   "source": [
    "Los valores de indexación y datos pueden ser extráidos de la Serie"
   ]
  },
  {
   "cell_type": "code",
   "execution_count": 9,
   "metadata": {},
   "outputs": [
    {
     "data": {
      "text/plain": [
       "RangeIndex(start=0, stop=5, step=1)"
      ]
     },
     "execution_count": 9,
     "metadata": {},
     "output_type": "execute_result"
    }
   ],
   "source": [
    "ser.index"
   ]
  },
  {
   "cell_type": "code",
   "execution_count": 10,
   "metadata": {},
   "outputs": [
    {
     "data": {
      "text/plain": [
       "Index(['a', 'b', 'c', 'd', 'e'], dtype='object')"
      ]
     },
     "execution_count": 10,
     "metadata": {},
     "output_type": "execute_result"
    }
   ],
   "source": [
    "ser3.index"
   ]
  },
  {
   "cell_type": "code",
   "execution_count": 11,
   "metadata": {},
   "outputs": [
    {
     "data": {
      "text/plain": [
       "array([1, 2, 3, 4, 5], dtype=int64)"
      ]
     },
     "execution_count": 11,
     "metadata": {},
     "output_type": "execute_result"
    }
   ],
   "source": [
    "ser3.values"
   ]
  },
  {
   "cell_type": "markdown",
   "metadata": {},
   "source": [
    "Los objetos de la serie y la indexación pueden ser etiquetados:"
   ]
  },
  {
   "cell_type": "code",
   "execution_count": 12,
   "metadata": {},
   "outputs": [
    {
     "name": "stdout",
     "output_type": "stream",
     "text": [
      "letras\n",
      "a    1\n",
      "b    2\n",
      "c    3\n",
      "d    4\n",
      "e    5\n",
      "Name: datos, dtype: int64\n"
     ]
    }
   ],
   "source": [
    "ser3.name = 'datos'\n",
    "ser3.index.name = 'letras'\n",
    "print(ser3)"
   ]
  },
  {
   "cell_type": "markdown",
   "metadata": {},
   "source": [
    "## Dataframe\n",
    "\n",
    "El Dataframe o marco de datos en español no es otra cosa que una tabla. Cada columa en el Dataframe es una Serie, las filas consiste de elemenos dentro de las Series."
   ]
  },
  {
   "cell_type": "markdown",
   "metadata": {},
   "source": [
    "Contruir Dataframe manualmente:"
   ]
  },
  {
   "cell_type": "code",
   "execution_count": 13,
   "metadata": {},
   "outputs": [
    {
     "data": {
      "text/html": [
       "<div>\n",
       "<style scoped>\n",
       "    .dataframe tbody tr th:only-of-type {\n",
       "        vertical-align: middle;\n",
       "    }\n",
       "\n",
       "    .dataframe tbody tr th {\n",
       "        vertical-align: top;\n",
       "    }\n",
       "\n",
       "    .dataframe thead th {\n",
       "        text-align: right;\n",
       "    }\n",
       "</style>\n",
       "<table border=\"1\" class=\"dataframe\">\n",
       "  <thead>\n",
       "    <tr style=\"text-align: right;\">\n",
       "      <th></th>\n",
       "      <th>País</th>\n",
       "      <th>Población</th>\n",
       "      <th>Area</th>\n",
       "    </tr>\n",
       "  </thead>\n",
       "  <tbody>\n",
       "    <tr>\n",
       "      <th>0</th>\n",
       "      <td>Vietnam</td>\n",
       "      <td>95.54</td>\n",
       "      <td>331210</td>\n",
       "    </tr>\n",
       "    <tr>\n",
       "      <th>1</th>\n",
       "      <td>China</td>\n",
       "      <td>1386.00</td>\n",
       "      <td>9596961</td>\n",
       "    </tr>\n",
       "    <tr>\n",
       "      <th>2</th>\n",
       "      <td>Indonesia</td>\n",
       "      <td>264.00</td>\n",
       "      <td>1904569</td>\n",
       "    </tr>\n",
       "    <tr>\n",
       "      <th>3</th>\n",
       "      <td>Tailandia</td>\n",
       "      <td>69.04</td>\n",
       "      <td>51320</td>\n",
       "    </tr>\n",
       "  </tbody>\n",
       "</table>\n",
       "</div>"
      ],
      "text/plain": [
       "        País  Población     Area\n",
       "0    Vietnam      95.54   331210\n",
       "1      China    1386.00  9596961\n",
       "2  Indonesia     264.00  1904569\n",
       "3  Tailandia      69.04    51320"
      ]
     },
     "execution_count": 13,
     "metadata": {},
     "output_type": "execute_result"
    }
   ],
   "source": [
    "df = pd.DataFrame({\n",
    "...     'País': ['Vietnam', 'China', 'Indonesia', 'Tailandia'],\n",
    "...     'Población': [95.54, 1386, 264, 69.04],\n",
    "...     'Area': [331210, 9596961, 1904569, 51320]\n",
    "... })\n",
    "df"
   ]
  },
  {
   "cell_type": "markdown",
   "metadata": {},
   "source": [
    "Los Dataframe tiene 2 indexaciones, por columna y por fila, si no se crea la indexación por file se creará una numerácio de 0 a N-1 donde N es el número de los elementos."
   ]
  },
  {
   "cell_type": "code",
   "execution_count": 14,
   "metadata": {},
   "outputs": [
    {
     "data": {
      "text/plain": [
       "Index(['País', 'Población', 'Area'], dtype='object')"
      ]
     },
     "execution_count": 14,
     "metadata": {},
     "output_type": "execute_result"
    }
   ],
   "source": [
    "df.columns"
   ]
  },
  {
   "cell_type": "code",
   "execution_count": 15,
   "metadata": {},
   "outputs": [
    {
     "data": {
      "text/plain": [
       "RangeIndex(start=0, stop=4, step=1)"
      ]
     },
     "execution_count": 15,
     "metadata": {},
     "output_type": "execute_result"
    }
   ],
   "source": [
    "df.index "
   ]
  },
  {
   "cell_type": "markdown",
   "metadata": {},
   "source": [
    "Al igual que en las Series podemos cambiar lo valores de indexación."
   ]
  },
  {
   "cell_type": "code",
   "execution_count": 16,
   "metadata": {
    "scrolled": true
   },
   "outputs": [
    {
     "data": {
      "text/html": [
       "<div>\n",
       "<style scoped>\n",
       "    .dataframe tbody tr th:only-of-type {\n",
       "        vertical-align: middle;\n",
       "    }\n",
       "\n",
       "    .dataframe tbody tr th {\n",
       "        vertical-align: top;\n",
       "    }\n",
       "\n",
       "    .dataframe thead th {\n",
       "        text-align: right;\n",
       "    }\n",
       "</style>\n",
       "<table border=\"1\" class=\"dataframe\">\n",
       "  <thead>\n",
       "    <tr style=\"text-align: right;\">\n",
       "      <th></th>\n",
       "      <th>País</th>\n",
       "      <th>Población</th>\n",
       "      <th>Area</th>\n",
       "    </tr>\n",
       "    <tr>\n",
       "      <th>Código de País</th>\n",
       "      <th></th>\n",
       "      <th></th>\n",
       "      <th></th>\n",
       "    </tr>\n",
       "  </thead>\n",
       "  <tbody>\n",
       "    <tr>\n",
       "      <th>VN</th>\n",
       "      <td>Vietnam</td>\n",
       "      <td>95.54</td>\n",
       "      <td>331210</td>\n",
       "    </tr>\n",
       "    <tr>\n",
       "      <th>CN</th>\n",
       "      <td>China</td>\n",
       "      <td>1386.00</td>\n",
       "      <td>9596961</td>\n",
       "    </tr>\n",
       "    <tr>\n",
       "      <th>IN</th>\n",
       "      <td>Indonesia</td>\n",
       "      <td>264.00</td>\n",
       "      <td>1904569</td>\n",
       "    </tr>\n",
       "    <tr>\n",
       "      <th>TH</th>\n",
       "      <td>Tailandia</td>\n",
       "      <td>69.04</td>\n",
       "      <td>51320</td>\n",
       "    </tr>\n",
       "  </tbody>\n",
       "</table>\n",
       "</div>"
      ],
      "text/plain": [
       "                     País  Población     Area\n",
       "Código de País                               \n",
       "VN                Vietnam      95.54   331210\n",
       "CN                  China    1386.00  9596961\n",
       "IN              Indonesia     264.00  1904569\n",
       "TH              Tailandia      69.04    51320"
      ]
     },
     "execution_count": 16,
     "metadata": {},
     "output_type": "execute_result"
    }
   ],
   "source": [
    "df.index = ['VN','CN','IN','TH']\n",
    "df.index.name = 'Código de País'\n",
    "df"
   ]
  },
  {
   "cell_type": "markdown",
   "metadata": {},
   "source": [
    "El acceso a la indexación de las filas puede ser a través de los comandos loc para etiquetas o iloc para números"
   ]
  },
  {
   "cell_type": "code",
   "execution_count": 17,
   "metadata": {},
   "outputs": [
    {
     "data": {
      "text/plain": [
       "País           China\n",
       "Población       1386\n",
       "Area         9596961\n",
       "Name: CN, dtype: object"
      ]
     },
     "execution_count": 17,
     "metadata": {},
     "output_type": "execute_result"
    }
   ],
   "source": [
    "df.loc['CN']"
   ]
  },
  {
   "cell_type": "code",
   "execution_count": 18,
   "metadata": {},
   "outputs": [
    {
     "data": {
      "text/plain": [
       "País         Tailandia\n",
       "Población        69.04\n",
       "Area             51320\n",
       "Name: TH, dtype: object"
      ]
     },
     "execution_count": 18,
     "metadata": {},
     "output_type": "execute_result"
    }
   ],
   "source": [
    "df.iloc[3]"
   ]
  },
  {
   "cell_type": "markdown",
   "metadata": {},
   "source": [
    "La indexación de filas y columnas puede ser llevado a cabo de esta manera:"
   ]
  },
  {
   "cell_type": "code",
   "execution_count": 19,
   "metadata": {},
   "outputs": [
    {
     "data": {
      "text/plain": [
       "Código de País\n",
       "CN    1386.00\n",
       "TH      69.04\n",
       "Name: Población, dtype: float64"
      ]
     },
     "execution_count": 19,
     "metadata": {},
     "output_type": "execute_result"
    }
   ],
   "source": [
    "df.loc[['CN','TH'],'Población']"
   ]
  },
  {
   "cell_type": "markdown",
   "metadata": {},
   "source": [
    "Se puede realizar filtrado para obtener datos"
   ]
  },
  {
   "cell_type": "code",
   "execution_count": 20,
   "metadata": {},
   "outputs": [
    {
     "data": {
      "text/html": [
       "<div>\n",
       "<style scoped>\n",
       "    .dataframe tbody tr th:only-of-type {\n",
       "        vertical-align: middle;\n",
       "    }\n",
       "\n",
       "    .dataframe tbody tr th {\n",
       "        vertical-align: top;\n",
       "    }\n",
       "\n",
       "    .dataframe thead th {\n",
       "        text-align: right;\n",
       "    }\n",
       "</style>\n",
       "<table border=\"1\" class=\"dataframe\">\n",
       "  <thead>\n",
       "    <tr style=\"text-align: right;\">\n",
       "      <th></th>\n",
       "      <th>País</th>\n",
       "      <th>Población</th>\n",
       "      <th>Area</th>\n",
       "    </tr>\n",
       "    <tr>\n",
       "      <th>Código de País</th>\n",
       "      <th></th>\n",
       "      <th></th>\n",
       "      <th></th>\n",
       "    </tr>\n",
       "  </thead>\n",
       "  <tbody>\n",
       "    <tr>\n",
       "      <th>CN</th>\n",
       "      <td>China</td>\n",
       "      <td>1386.0</td>\n",
       "      <td>9596961</td>\n",
       "    </tr>\n",
       "    <tr>\n",
       "      <th>IN</th>\n",
       "      <td>Indonesia</td>\n",
       "      <td>264.0</td>\n",
       "      <td>1904569</td>\n",
       "    </tr>\n",
       "  </tbody>\n",
       "</table>\n",
       "</div>"
      ],
      "text/plain": [
       "                     País  Población     Area\n",
       "Código de País                               \n",
       "CN                  China     1386.0  9596961\n",
       "IN              Indonesia      264.0  1904569"
      ]
     },
     "execution_count": 20,
     "metadata": {},
     "output_type": "execute_result"
    }
   ],
   "source": [
    "df[df.Población > 100]"
   ]
  },
  {
   "cell_type": "markdown",
   "metadata": {},
   "source": [
    "Es posible agregar una columna al conjunto de datos existente"
   ]
  },
  {
   "cell_type": "code",
   "execution_count": 21,
   "metadata": {},
   "outputs": [
    {
     "data": {
      "text/html": [
       "<div>\n",
       "<style scoped>\n",
       "    .dataframe tbody tr th:only-of-type {\n",
       "        vertical-align: middle;\n",
       "    }\n",
       "\n",
       "    .dataframe tbody tr th {\n",
       "        vertical-align: top;\n",
       "    }\n",
       "\n",
       "    .dataframe thead th {\n",
       "        text-align: right;\n",
       "    }\n",
       "</style>\n",
       "<table border=\"1\" class=\"dataframe\">\n",
       "  <thead>\n",
       "    <tr style=\"text-align: right;\">\n",
       "      <th></th>\n",
       "      <th>País</th>\n",
       "      <th>Población</th>\n",
       "      <th>Area</th>\n",
       "      <th>densidad</th>\n",
       "    </tr>\n",
       "    <tr>\n",
       "      <th>Código de País</th>\n",
       "      <th></th>\n",
       "      <th></th>\n",
       "      <th></th>\n",
       "      <th></th>\n",
       "    </tr>\n",
       "  </thead>\n",
       "  <tbody>\n",
       "    <tr>\n",
       "      <th>VN</th>\n",
       "      <td>Vietnam</td>\n",
       "      <td>95.54</td>\n",
       "      <td>331210</td>\n",
       "      <td>288.457474</td>\n",
       "    </tr>\n",
       "    <tr>\n",
       "      <th>CN</th>\n",
       "      <td>China</td>\n",
       "      <td>1386.00</td>\n",
       "      <td>9596961</td>\n",
       "      <td>144.420718</td>\n",
       "    </tr>\n",
       "    <tr>\n",
       "      <th>IN</th>\n",
       "      <td>Indonesia</td>\n",
       "      <td>264.00</td>\n",
       "      <td>1904569</td>\n",
       "      <td>138.614038</td>\n",
       "    </tr>\n",
       "    <tr>\n",
       "      <th>TH</th>\n",
       "      <td>Tailandia</td>\n",
       "      <td>69.04</td>\n",
       "      <td>51320</td>\n",
       "      <td>1345.284489</td>\n",
       "    </tr>\n",
       "  </tbody>\n",
       "</table>\n",
       "</div>"
      ],
      "text/plain": [
       "                     País  Población     Area     densidad\n",
       "Código de País                                            \n",
       "VN                Vietnam      95.54   331210   288.457474\n",
       "CN                  China    1386.00  9596961   144.420718\n",
       "IN              Indonesia     264.00  1904569   138.614038\n",
       "TH              Tailandia      69.04    51320  1345.284489"
      ]
     },
     "execution_count": 21,
     "metadata": {},
     "output_type": "execute_result"
    }
   ],
   "source": [
    "df['densidad'] = df['Población']/df['Area'] * 1000000\n",
    "df"
   ]
  },
  {
   "cell_type": "markdown",
   "metadata": {},
   "source": [
    "Las columnas pueden ser eliminadas mediante el comando drop()"
   ]
  },
  {
   "cell_type": "code",
   "execution_count": 22,
   "metadata": {},
   "outputs": [
    {
     "data": {
      "text/html": [
       "<div>\n",
       "<style scoped>\n",
       "    .dataframe tbody tr th:only-of-type {\n",
       "        vertical-align: middle;\n",
       "    }\n",
       "\n",
       "    .dataframe tbody tr th {\n",
       "        vertical-align: top;\n",
       "    }\n",
       "\n",
       "    .dataframe thead th {\n",
       "        text-align: right;\n",
       "    }\n",
       "</style>\n",
       "<table border=\"1\" class=\"dataframe\">\n",
       "  <thead>\n",
       "    <tr style=\"text-align: right;\">\n",
       "      <th></th>\n",
       "      <th>País</th>\n",
       "      <th>Población</th>\n",
       "      <th>Area</th>\n",
       "    </tr>\n",
       "    <tr>\n",
       "      <th>Código de País</th>\n",
       "      <th></th>\n",
       "      <th></th>\n",
       "      <th></th>\n",
       "    </tr>\n",
       "  </thead>\n",
       "  <tbody>\n",
       "    <tr>\n",
       "      <th>VN</th>\n",
       "      <td>Vietnam</td>\n",
       "      <td>95.54</td>\n",
       "      <td>331210</td>\n",
       "    </tr>\n",
       "    <tr>\n",
       "      <th>CN</th>\n",
       "      <td>China</td>\n",
       "      <td>1386.00</td>\n",
       "      <td>9596961</td>\n",
       "    </tr>\n",
       "    <tr>\n",
       "      <th>IN</th>\n",
       "      <td>Indonesia</td>\n",
       "      <td>264.00</td>\n",
       "      <td>1904569</td>\n",
       "    </tr>\n",
       "    <tr>\n",
       "      <th>TH</th>\n",
       "      <td>Tailandia</td>\n",
       "      <td>69.04</td>\n",
       "      <td>51320</td>\n",
       "    </tr>\n",
       "  </tbody>\n",
       "</table>\n",
       "</div>"
      ],
      "text/plain": [
       "                     País  Población     Area\n",
       "Código de País                               \n",
       "VN                Vietnam      95.54   331210\n",
       "CN                  China    1386.00  9596961\n",
       "IN              Indonesia     264.00  1904569\n",
       "TH              Tailandia      69.04    51320"
      ]
     },
     "execution_count": 22,
     "metadata": {},
     "output_type": "execute_result"
    }
   ],
   "source": [
    "df.drop(['densidad'], axis='columns')"
   ]
  },
  {
   "cell_type": "markdown",
   "metadata": {},
   "source": [
    "Podemos accesar los datos el inicio o a final del Dataframe por medio de los comandos head y til respectivamente."
   ]
  },
  {
   "cell_type": "code",
   "execution_count": 23,
   "metadata": {},
   "outputs": [
    {
     "name": "stdout",
     "output_type": "stream",
     "text": [
      "                     País  Población     Area    densidad\n",
      "Código de País                                           \n",
      "VN                Vietnam      95.54   331210  288.457474\n",
      "CN                  China    1386.00  9596961  144.420718\n",
      "IN              Indonesia     264.00  1904569  138.614038\n"
     ]
    }
   ],
   "source": [
    "print(df.head(3))"
   ]
  },
  {
   "cell_type": "code",
   "execution_count": 24,
   "metadata": {},
   "outputs": [
    {
     "name": "stdout",
     "output_type": "stream",
     "text": [
      "                     País  Población     Area     densidad\n",
      "Código de País                                            \n",
      "IN              Indonesia     264.00  1904569   138.614038\n",
      "TH              Tailandia      69.04    51320  1345.284489\n"
     ]
    }
   ],
   "source": [
    "print(df.tail(2))"
   ]
  },
  {
   "cell_type": "markdown",
   "metadata": {},
   "source": [
    "Con info() obtenemos información del dataframe"
   ]
  },
  {
   "cell_type": "code",
   "execution_count": 25,
   "metadata": {},
   "outputs": [
    {
     "name": "stdout",
     "output_type": "stream",
     "text": [
      "<class 'pandas.core.frame.DataFrame'>\n",
      "Index: 4 entries, VN to TH\n",
      "Data columns (total 4 columns):\n",
      "País         4 non-null object\n",
      "Población    4 non-null float64\n",
      "Area         4 non-null int64\n",
      "densidad     4 non-null float64\n",
      "dtypes: float64(2), int64(1), object(1)\n",
      "memory usage: 320.0+ bytes\n"
     ]
    }
   ],
   "source": [
    "df.info()"
   ]
  },
  {
   "cell_type": "markdown",
   "metadata": {},
   "source": [
    "Con shape podemos obtener la cantidad de files y columans del Dataframe"
   ]
  },
  {
   "cell_type": "code",
   "execution_count": 26,
   "metadata": {},
   "outputs": [
    {
     "data": {
      "text/plain": [
       "(4, 4)"
      ]
     },
     "execution_count": 26,
     "metadata": {},
     "output_type": "execute_result"
    }
   ],
   "source": [
    "df.shape"
   ]
  },
  {
   "cell_type": "markdown",
   "metadata": {},
   "source": [
    "Con Count obtenemos la cantidad de datos válidos por columna. Esto quiere decir que en caso de exister valores Null no se contabilizan."
   ]
  },
  {
   "cell_type": "code",
   "execution_count": 27,
   "metadata": {},
   "outputs": [
    {
     "data": {
      "text/plain": [
       "País         4\n",
       "Población    4\n",
       "Area         4\n",
       "densidad     4\n",
       "dtype: int64"
      ]
     },
     "execution_count": 27,
     "metadata": {},
     "output_type": "execute_result"
    }
   ],
   "source": [
    "df.count()"
   ]
  },
  {
   "cell_type": "markdown",
   "metadata": {},
   "source": [
    "Con sum() se obtiene el valor total de los elementos de cada columna."
   ]
  },
  {
   "cell_type": "code",
   "execution_count": 28,
   "metadata": {},
   "outputs": [
    {
     "data": {
      "text/plain": [
       "País         VietnamChinaIndonesiaTailandia\n",
       "Población                           1814.58\n",
       "Area                               11884060\n",
       "densidad                            1916.78\n",
       "dtype: object"
      ]
     },
     "execution_count": 28,
     "metadata": {},
     "output_type": "execute_result"
    }
   ],
   "source": [
    "df.sum()"
   ]
  },
  {
   "cell_type": "markdown",
   "metadata": {},
   "source": [
    "También podemos realizar la función sólamente ciertas columnas deseadas"
   ]
  },
  {
   "cell_type": "code",
   "execution_count": 29,
   "metadata": {},
   "outputs": [
    {
     "data": {
      "text/plain": [
       "1814.58"
      ]
     },
     "execution_count": 29,
     "metadata": {},
     "output_type": "execute_result"
    }
   ],
   "source": [
    "df['Población'].sum()"
   ]
  },
  {
   "cell_type": "markdown",
   "metadata": {},
   "source": [
    "Otra función útil es describe, qu enos permite obtener la media, desviacón estándar, mínimo, máximo y pércintiles del conjunto de datos."
   ]
  },
  {
   "cell_type": "code",
   "execution_count": 30,
   "metadata": {},
   "outputs": [
    {
     "data": {
      "text/html": [
       "<div>\n",
       "<style scoped>\n",
       "    .dataframe tbody tr th:only-of-type {\n",
       "        vertical-align: middle;\n",
       "    }\n",
       "\n",
       "    .dataframe tbody tr th {\n",
       "        vertical-align: top;\n",
       "    }\n",
       "\n",
       "    .dataframe thead th {\n",
       "        text-align: right;\n",
       "    }\n",
       "</style>\n",
       "<table border=\"1\" class=\"dataframe\">\n",
       "  <thead>\n",
       "    <tr style=\"text-align: right;\">\n",
       "      <th></th>\n",
       "      <th>Población</th>\n",
       "      <th>Area</th>\n",
       "      <th>densidad</th>\n",
       "    </tr>\n",
       "  </thead>\n",
       "  <tbody>\n",
       "    <tr>\n",
       "      <th>count</th>\n",
       "      <td>4.000000</td>\n",
       "      <td>4.000000e+00</td>\n",
       "      <td>4.000000</td>\n",
       "    </tr>\n",
       "    <tr>\n",
       "      <th>mean</th>\n",
       "      <td>453.645000</td>\n",
       "      <td>2.971015e+06</td>\n",
       "      <td>479.194180</td>\n",
       "    </tr>\n",
       "    <tr>\n",
       "      <th>std</th>\n",
       "      <td>627.537853</td>\n",
       "      <td>4.491980e+06</td>\n",
       "      <td>581.538482</td>\n",
       "    </tr>\n",
       "    <tr>\n",
       "      <th>min</th>\n",
       "      <td>69.040000</td>\n",
       "      <td>5.132000e+04</td>\n",
       "      <td>138.614038</td>\n",
       "    </tr>\n",
       "    <tr>\n",
       "      <th>25%</th>\n",
       "      <td>88.915000</td>\n",
       "      <td>2.612375e+05</td>\n",
       "      <td>142.969048</td>\n",
       "    </tr>\n",
       "    <tr>\n",
       "      <th>50%</th>\n",
       "      <td>179.770000</td>\n",
       "      <td>1.117890e+06</td>\n",
       "      <td>216.439096</td>\n",
       "    </tr>\n",
       "    <tr>\n",
       "      <th>75%</th>\n",
       "      <td>544.500000</td>\n",
       "      <td>3.827667e+06</td>\n",
       "      <td>552.664228</td>\n",
       "    </tr>\n",
       "    <tr>\n",
       "      <th>max</th>\n",
       "      <td>1386.000000</td>\n",
       "      <td>9.596961e+06</td>\n",
       "      <td>1345.284489</td>\n",
       "    </tr>\n",
       "  </tbody>\n",
       "</table>\n",
       "</div>"
      ],
      "text/plain": [
       "         Población          Area     densidad\n",
       "count     4.000000  4.000000e+00     4.000000\n",
       "mean    453.645000  2.971015e+06   479.194180\n",
       "std     627.537853  4.491980e+06   581.538482\n",
       "min      69.040000  5.132000e+04   138.614038\n",
       "25%      88.915000  2.612375e+05   142.969048\n",
       "50%     179.770000  1.117890e+06   216.439096\n",
       "75%     544.500000  3.827667e+06   552.664228\n",
       "max    1386.000000  9.596961e+06  1345.284489"
      ]
     },
     "execution_count": 30,
     "metadata": {},
     "output_type": "execute_result"
    }
   ],
   "source": [
    "df.describe()"
   ]
  },
  {
   "cell_type": "markdown",
   "metadata": {},
   "source": [
    "La función corr() nos da la correlación entre los datos."
   ]
  },
  {
   "cell_type": "code",
   "execution_count": 31,
   "metadata": {},
   "outputs": [
    {
     "data": {
      "text/html": [
       "<div>\n",
       "<style scoped>\n",
       "    .dataframe tbody tr th:only-of-type {\n",
       "        vertical-align: middle;\n",
       "    }\n",
       "\n",
       "    .dataframe tbody tr th {\n",
       "        vertical-align: top;\n",
       "    }\n",
       "\n",
       "    .dataframe thead th {\n",
       "        text-align: right;\n",
       "    }\n",
       "</style>\n",
       "<table border=\"1\" class=\"dataframe\">\n",
       "  <thead>\n",
       "    <tr style=\"text-align: right;\">\n",
       "      <th></th>\n",
       "      <th>Población</th>\n",
       "      <th>Area</th>\n",
       "      <th>densidad</th>\n",
       "    </tr>\n",
       "  </thead>\n",
       "  <tbody>\n",
       "    <tr>\n",
       "      <th>Población</th>\n",
       "      <td>1.000000</td>\n",
       "      <td>0.999004</td>\n",
       "      <td>-0.467968</td>\n",
       "    </tr>\n",
       "    <tr>\n",
       "      <th>Area</th>\n",
       "      <td>0.999004</td>\n",
       "      <td>1.000000</td>\n",
       "      <td>-0.495126</td>\n",
       "    </tr>\n",
       "    <tr>\n",
       "      <th>densidad</th>\n",
       "      <td>-0.467968</td>\n",
       "      <td>-0.495126</td>\n",
       "      <td>1.000000</td>\n",
       "    </tr>\n",
       "  </tbody>\n",
       "</table>\n",
       "</div>"
      ],
      "text/plain": [
       "           Población      Area  densidad\n",
       "Población   1.000000  0.999004 -0.467968\n",
       "Area        0.999004  1.000000 -0.495126\n",
       "densidad   -0.467968 -0.495126  1.000000"
      ]
     },
     "execution_count": 31,
     "metadata": {},
     "output_type": "execute_result"
    }
   ],
   "source": [
    "df.corr()"
   ]
  },
  {
   "cell_type": "markdown",
   "metadata": {},
   "source": [
    "Se puede realizar tablas cruzadas entre dos o más columnas."
   ]
  },
  {
   "cell_type": "code",
   "execution_count": 32,
   "metadata": {},
   "outputs": [
    {
     "data": {
      "text/html": [
       "<div>\n",
       "<style scoped>\n",
       "    .dataframe tbody tr th:only-of-type {\n",
       "        vertical-align: middle;\n",
       "    }\n",
       "\n",
       "    .dataframe tbody tr th {\n",
       "        vertical-align: top;\n",
       "    }\n",
       "\n",
       "    .dataframe thead th {\n",
       "        text-align: right;\n",
       "    }\n",
       "</style>\n",
       "<table border=\"1\" class=\"dataframe\">\n",
       "  <thead>\n",
       "    <tr style=\"text-align: right;\">\n",
       "      <th>Area</th>\n",
       "      <th>51320</th>\n",
       "      <th>331210</th>\n",
       "      <th>1904569</th>\n",
       "      <th>9596961</th>\n",
       "    </tr>\n",
       "    <tr>\n",
       "      <th>Población</th>\n",
       "      <th></th>\n",
       "      <th></th>\n",
       "      <th></th>\n",
       "      <th></th>\n",
       "    </tr>\n",
       "  </thead>\n",
       "  <tbody>\n",
       "    <tr>\n",
       "      <th>69.04</th>\n",
       "      <td>1</td>\n",
       "      <td>0</td>\n",
       "      <td>0</td>\n",
       "      <td>0</td>\n",
       "    </tr>\n",
       "    <tr>\n",
       "      <th>95.54</th>\n",
       "      <td>0</td>\n",
       "      <td>1</td>\n",
       "      <td>0</td>\n",
       "      <td>0</td>\n",
       "    </tr>\n",
       "    <tr>\n",
       "      <th>264.00</th>\n",
       "      <td>0</td>\n",
       "      <td>0</td>\n",
       "      <td>1</td>\n",
       "      <td>0</td>\n",
       "    </tr>\n",
       "    <tr>\n",
       "      <th>1386.00</th>\n",
       "      <td>0</td>\n",
       "      <td>0</td>\n",
       "      <td>0</td>\n",
       "      <td>1</td>\n",
       "    </tr>\n",
       "  </tbody>\n",
       "</table>\n",
       "</div>"
      ],
      "text/plain": [
       "Area       51320    331210   1904569  9596961\n",
       "Población                                    \n",
       "69.04            1        0        0        0\n",
       "95.54            0        1        0        0\n",
       "264.00           0        0        1        0\n",
       "1386.00          0        0        0        1"
      ]
     },
     "execution_count": 32,
     "metadata": {},
     "output_type": "execute_result"
    }
   ],
   "source": [
    "pd.crosstab(df.Población, df.Area)"
   ]
  },
  {
   "cell_type": "markdown",
   "metadata": {},
   "source": [
    "Es posible realizar ordenamiento ascendente, descendente y por varias columnnas"
   ]
  },
  {
   "cell_type": "code",
   "execution_count": 33,
   "metadata": {},
   "outputs": [
    {
     "data": {
      "text/html": [
       "<div>\n",
       "<style scoped>\n",
       "    .dataframe tbody tr th:only-of-type {\n",
       "        vertical-align: middle;\n",
       "    }\n",
       "\n",
       "    .dataframe tbody tr th {\n",
       "        vertical-align: top;\n",
       "    }\n",
       "\n",
       "    .dataframe thead th {\n",
       "        text-align: right;\n",
       "    }\n",
       "</style>\n",
       "<table border=\"1\" class=\"dataframe\">\n",
       "  <thead>\n",
       "    <tr style=\"text-align: right;\">\n",
       "      <th></th>\n",
       "      <th>País</th>\n",
       "      <th>Población</th>\n",
       "      <th>Area</th>\n",
       "      <th>densidad</th>\n",
       "    </tr>\n",
       "    <tr>\n",
       "      <th>Código de País</th>\n",
       "      <th></th>\n",
       "      <th></th>\n",
       "      <th></th>\n",
       "      <th></th>\n",
       "    </tr>\n",
       "  </thead>\n",
       "  <tbody>\n",
       "    <tr>\n",
       "      <th>TH</th>\n",
       "      <td>Tailandia</td>\n",
       "      <td>69.04</td>\n",
       "      <td>51320</td>\n",
       "      <td>1345.284489</td>\n",
       "    </tr>\n",
       "    <tr>\n",
       "      <th>VN</th>\n",
       "      <td>Vietnam</td>\n",
       "      <td>95.54</td>\n",
       "      <td>331210</td>\n",
       "      <td>288.457474</td>\n",
       "    </tr>\n",
       "    <tr>\n",
       "      <th>IN</th>\n",
       "      <td>Indonesia</td>\n",
       "      <td>264.00</td>\n",
       "      <td>1904569</td>\n",
       "      <td>138.614038</td>\n",
       "    </tr>\n",
       "    <tr>\n",
       "      <th>CN</th>\n",
       "      <td>China</td>\n",
       "      <td>1386.00</td>\n",
       "      <td>9596961</td>\n",
       "      <td>144.420718</td>\n",
       "    </tr>\n",
       "  </tbody>\n",
       "</table>\n",
       "</div>"
      ],
      "text/plain": [
       "                     País  Población     Area     densidad\n",
       "Código de País                                            \n",
       "TH              Tailandia      69.04    51320  1345.284489\n",
       "VN                Vietnam      95.54   331210   288.457474\n",
       "IN              Indonesia     264.00  1904569   138.614038\n",
       "CN                  China    1386.00  9596961   144.420718"
      ]
     },
     "execution_count": 33,
     "metadata": {},
     "output_type": "execute_result"
    }
   ],
   "source": [
    "df.sort_values(by=['Población'])"
   ]
  },
  {
   "cell_type": "code",
   "execution_count": 34,
   "metadata": {},
   "outputs": [
    {
     "data": {
      "text/html": [
       "<div>\n",
       "<style scoped>\n",
       "    .dataframe tbody tr th:only-of-type {\n",
       "        vertical-align: middle;\n",
       "    }\n",
       "\n",
       "    .dataframe tbody tr th {\n",
       "        vertical-align: top;\n",
       "    }\n",
       "\n",
       "    .dataframe thead th {\n",
       "        text-align: right;\n",
       "    }\n",
       "</style>\n",
       "<table border=\"1\" class=\"dataframe\">\n",
       "  <thead>\n",
       "    <tr style=\"text-align: right;\">\n",
       "      <th></th>\n",
       "      <th>País</th>\n",
       "      <th>Población</th>\n",
       "      <th>Area</th>\n",
       "      <th>densidad</th>\n",
       "    </tr>\n",
       "    <tr>\n",
       "      <th>Código de País</th>\n",
       "      <th></th>\n",
       "      <th></th>\n",
       "      <th></th>\n",
       "      <th></th>\n",
       "    </tr>\n",
       "  </thead>\n",
       "  <tbody>\n",
       "    <tr>\n",
       "      <th>CN</th>\n",
       "      <td>China</td>\n",
       "      <td>1386.00</td>\n",
       "      <td>9596961</td>\n",
       "      <td>144.420718</td>\n",
       "    </tr>\n",
       "    <tr>\n",
       "      <th>IN</th>\n",
       "      <td>Indonesia</td>\n",
       "      <td>264.00</td>\n",
       "      <td>1904569</td>\n",
       "      <td>138.614038</td>\n",
       "    </tr>\n",
       "    <tr>\n",
       "      <th>VN</th>\n",
       "      <td>Vietnam</td>\n",
       "      <td>95.54</td>\n",
       "      <td>331210</td>\n",
       "      <td>288.457474</td>\n",
       "    </tr>\n",
       "    <tr>\n",
       "      <th>TH</th>\n",
       "      <td>Tailandia</td>\n",
       "      <td>69.04</td>\n",
       "      <td>51320</td>\n",
       "      <td>1345.284489</td>\n",
       "    </tr>\n",
       "  </tbody>\n",
       "</table>\n",
       "</div>"
      ],
      "text/plain": [
       "                     País  Población     Area     densidad\n",
       "Código de País                                            \n",
       "CN                  China    1386.00  9596961   144.420718\n",
       "IN              Indonesia     264.00  1904569   138.614038\n",
       "VN                Vietnam      95.54   331210   288.457474\n",
       "TH              Tailandia      69.04    51320  1345.284489"
      ]
     },
     "execution_count": 34,
     "metadata": {},
     "output_type": "execute_result"
    }
   ],
   "source": [
    "df.sort_values(by=['Población'], ascending=False)"
   ]
  },
  {
   "cell_type": "code",
   "execution_count": 35,
   "metadata": {},
   "outputs": [
    {
     "data": {
      "text/html": [
       "<div>\n",
       "<style scoped>\n",
       "    .dataframe tbody tr th:only-of-type {\n",
       "        vertical-align: middle;\n",
       "    }\n",
       "\n",
       "    .dataframe tbody tr th {\n",
       "        vertical-align: top;\n",
       "    }\n",
       "\n",
       "    .dataframe thead th {\n",
       "        text-align: right;\n",
       "    }\n",
       "</style>\n",
       "<table border=\"1\" class=\"dataframe\">\n",
       "  <thead>\n",
       "    <tr style=\"text-align: right;\">\n",
       "      <th></th>\n",
       "      <th>País</th>\n",
       "      <th>Población</th>\n",
       "      <th>Area</th>\n",
       "      <th>densidad</th>\n",
       "    </tr>\n",
       "    <tr>\n",
       "      <th>Código de País</th>\n",
       "      <th></th>\n",
       "      <th></th>\n",
       "      <th></th>\n",
       "      <th></th>\n",
       "    </tr>\n",
       "  </thead>\n",
       "  <tbody>\n",
       "    <tr>\n",
       "      <th>TH</th>\n",
       "      <td>Tailandia</td>\n",
       "      <td>69.04</td>\n",
       "      <td>51320</td>\n",
       "      <td>1345.284489</td>\n",
       "    </tr>\n",
       "    <tr>\n",
       "      <th>VN</th>\n",
       "      <td>Vietnam</td>\n",
       "      <td>95.54</td>\n",
       "      <td>331210</td>\n",
       "      <td>288.457474</td>\n",
       "    </tr>\n",
       "    <tr>\n",
       "      <th>IN</th>\n",
       "      <td>Indonesia</td>\n",
       "      <td>264.00</td>\n",
       "      <td>1904569</td>\n",
       "      <td>138.614038</td>\n",
       "    </tr>\n",
       "    <tr>\n",
       "      <th>CN</th>\n",
       "      <td>China</td>\n",
       "      <td>1386.00</td>\n",
       "      <td>9596961</td>\n",
       "      <td>144.420718</td>\n",
       "    </tr>\n",
       "  </tbody>\n",
       "</table>\n",
       "</div>"
      ],
      "text/plain": [
       "                     País  Población     Area     densidad\n",
       "Código de País                                            \n",
       "TH              Tailandia      69.04    51320  1345.284489\n",
       "VN                Vietnam      95.54   331210   288.457474\n",
       "IN              Indonesia     264.00  1904569   138.614038\n",
       "CN                  China    1386.00  9596961   144.420718"
      ]
     },
     "execution_count": 35,
     "metadata": {},
     "output_type": "execute_result"
    }
   ],
   "source": [
    "df.sort_values(by=['Población','Area'])"
   ]
  },
  {
   "cell_type": "markdown",
   "metadata": {},
   "source": [
    "Con la función concat() se realiza la concatenación de dos o más dataframes."
   ]
  },
  {
   "cell_type": "code",
   "execution_count": 36,
   "metadata": {},
   "outputs": [],
   "source": [
    " df1 = pd.DataFrame({\n",
    "...     'País': ['Vietnam', 'China', 'Indonesia', 'Tailandia'],\n",
    "...     'Población': [95.54, 1386, 264, 69.04],\n",
    "...     'Area': [331210, 9596961, 1904569, 51320]\n",
    "... }, index = ['VN','CN','IN','TH']) \n",
    "    \n",
    "df2 = pd.DataFrame({\n",
    "...     'País': ['Kazakhstan', 'Russia', 'Belarus', 'Ukraine','Tailandia'],\n",
    "...     'Población': [17.04, 143.5, 9.5, 45.5, 69.04],\n",
    "...     'Area': [2724902, 17125191, 207600, 603628, 51320]\n",
    "... }, index=['KZ', 'RU', 'BY', 'UA', 'TH'])\n"
   ]
  },
  {
   "cell_type": "code",
   "execution_count": 37,
   "metadata": {},
   "outputs": [
    {
     "data": {
      "text/html": [
       "<div>\n",
       "<style scoped>\n",
       "    .dataframe tbody tr th:only-of-type {\n",
       "        vertical-align: middle;\n",
       "    }\n",
       "\n",
       "    .dataframe tbody tr th {\n",
       "        vertical-align: top;\n",
       "    }\n",
       "\n",
       "    .dataframe thead th {\n",
       "        text-align: right;\n",
       "    }\n",
       "</style>\n",
       "<table border=\"1\" class=\"dataframe\">\n",
       "  <thead>\n",
       "    <tr style=\"text-align: right;\">\n",
       "      <th></th>\n",
       "      <th>País</th>\n",
       "      <th>Población</th>\n",
       "      <th>Area</th>\n",
       "    </tr>\n",
       "  </thead>\n",
       "  <tbody>\n",
       "    <tr>\n",
       "      <th>VN</th>\n",
       "      <td>Vietnam</td>\n",
       "      <td>95.54</td>\n",
       "      <td>331210</td>\n",
       "    </tr>\n",
       "    <tr>\n",
       "      <th>CN</th>\n",
       "      <td>China</td>\n",
       "      <td>1386.00</td>\n",
       "      <td>9596961</td>\n",
       "    </tr>\n",
       "    <tr>\n",
       "      <th>IN</th>\n",
       "      <td>Indonesia</td>\n",
       "      <td>264.00</td>\n",
       "      <td>1904569</td>\n",
       "    </tr>\n",
       "    <tr>\n",
       "      <th>TH</th>\n",
       "      <td>Tailandia</td>\n",
       "      <td>69.04</td>\n",
       "      <td>51320</td>\n",
       "    </tr>\n",
       "    <tr>\n",
       "      <th>KZ</th>\n",
       "      <td>Kazakhstan</td>\n",
       "      <td>17.04</td>\n",
       "      <td>2724902</td>\n",
       "    </tr>\n",
       "    <tr>\n",
       "      <th>RU</th>\n",
       "      <td>Russia</td>\n",
       "      <td>143.50</td>\n",
       "      <td>17125191</td>\n",
       "    </tr>\n",
       "    <tr>\n",
       "      <th>BY</th>\n",
       "      <td>Belarus</td>\n",
       "      <td>9.50</td>\n",
       "      <td>207600</td>\n",
       "    </tr>\n",
       "    <tr>\n",
       "      <th>UA</th>\n",
       "      <td>Ukraine</td>\n",
       "      <td>45.50</td>\n",
       "      <td>603628</td>\n",
       "    </tr>\n",
       "    <tr>\n",
       "      <th>TH</th>\n",
       "      <td>Tailandia</td>\n",
       "      <td>69.04</td>\n",
       "      <td>51320</td>\n",
       "    </tr>\n",
       "  </tbody>\n",
       "</table>\n",
       "</div>"
      ],
      "text/plain": [
       "          País  Población      Area\n",
       "VN     Vietnam      95.54    331210\n",
       "CN       China    1386.00   9596961\n",
       "IN   Indonesia     264.00   1904569\n",
       "TH   Tailandia      69.04     51320\n",
       "KZ  Kazakhstan      17.04   2724902\n",
       "RU      Russia     143.50  17125191\n",
       "BY     Belarus       9.50    207600\n",
       "UA     Ukraine      45.50    603628\n",
       "TH   Tailandia      69.04     51320"
      ]
     },
     "execution_count": 37,
     "metadata": {},
     "output_type": "execute_result"
    }
   ],
   "source": [
    "df_concat = pd.concat([df1,df2])\n",
    "df_concat"
   ]
  },
  {
   "cell_type": "markdown",
   "metadata": {},
   "source": [
    "Los duplicados pueden ser eliminados mediante el comando drop_duplicates()"
   ]
  },
  {
   "cell_type": "code",
   "execution_count": 38,
   "metadata": {},
   "outputs": [
    {
     "data": {
      "text/html": [
       "<div>\n",
       "<style scoped>\n",
       "    .dataframe tbody tr th:only-of-type {\n",
       "        vertical-align: middle;\n",
       "    }\n",
       "\n",
       "    .dataframe tbody tr th {\n",
       "        vertical-align: top;\n",
       "    }\n",
       "\n",
       "    .dataframe thead th {\n",
       "        text-align: right;\n",
       "    }\n",
       "</style>\n",
       "<table border=\"1\" class=\"dataframe\">\n",
       "  <thead>\n",
       "    <tr style=\"text-align: right;\">\n",
       "      <th></th>\n",
       "      <th>País</th>\n",
       "      <th>Población</th>\n",
       "      <th>Area</th>\n",
       "    </tr>\n",
       "  </thead>\n",
       "  <tbody>\n",
       "    <tr>\n",
       "      <th>VN</th>\n",
       "      <td>Vietnam</td>\n",
       "      <td>95.54</td>\n",
       "      <td>331210</td>\n",
       "    </tr>\n",
       "    <tr>\n",
       "      <th>CN</th>\n",
       "      <td>China</td>\n",
       "      <td>1386.00</td>\n",
       "      <td>9596961</td>\n",
       "    </tr>\n",
       "    <tr>\n",
       "      <th>IN</th>\n",
       "      <td>Indonesia</td>\n",
       "      <td>264.00</td>\n",
       "      <td>1904569</td>\n",
       "    </tr>\n",
       "    <tr>\n",
       "      <th>TH</th>\n",
       "      <td>Tailandia</td>\n",
       "      <td>69.04</td>\n",
       "      <td>51320</td>\n",
       "    </tr>\n",
       "    <tr>\n",
       "      <th>KZ</th>\n",
       "      <td>Kazakhstan</td>\n",
       "      <td>17.04</td>\n",
       "      <td>2724902</td>\n",
       "    </tr>\n",
       "    <tr>\n",
       "      <th>RU</th>\n",
       "      <td>Russia</td>\n",
       "      <td>143.50</td>\n",
       "      <td>17125191</td>\n",
       "    </tr>\n",
       "    <tr>\n",
       "      <th>BY</th>\n",
       "      <td>Belarus</td>\n",
       "      <td>9.50</td>\n",
       "      <td>207600</td>\n",
       "    </tr>\n",
       "    <tr>\n",
       "      <th>UA</th>\n",
       "      <td>Ukraine</td>\n",
       "      <td>45.50</td>\n",
       "      <td>603628</td>\n",
       "    </tr>\n",
       "  </tbody>\n",
       "</table>\n",
       "</div>"
      ],
      "text/plain": [
       "          País  Población      Area\n",
       "VN     Vietnam      95.54    331210\n",
       "CN       China    1386.00   9596961\n",
       "IN   Indonesia     264.00   1904569\n",
       "TH   Tailandia      69.04     51320\n",
       "KZ  Kazakhstan      17.04   2724902\n",
       "RU      Russia     143.50  17125191\n",
       "BY     Belarus       9.50    207600\n",
       "UA     Ukraine      45.50    603628"
      ]
     },
     "execution_count": 38,
     "metadata": {},
     "output_type": "execute_result"
    }
   ],
   "source": [
    "df_concat.drop_duplicates('País')"
   ]
  },
  {
   "cell_type": "markdown",
   "metadata": {},
   "source": [
    "## PARTE II: ANALISIS SET DE DATOS"
   ]
  },
  {
   "cell_type": "markdown",
   "metadata": {},
   "source": [
    "Importamos el dataset en formato csv tomando de https://www.kaggle.com/ mediante el comando pd.read_csv. Para otros formatos de set de datos existen otros comandos que no fueron incluídos en este tutorial."
   ]
  },
  {
   "cell_type": "code",
   "execution_count": 2,
   "metadata": {},
   "outputs": [
    {
     "name": "stderr",
     "output_type": "stream",
     "text": [
      "C:\\Users\\Felipe\\Miniconda3\\envs\\py3\\lib\\site-packages\\numpy\\lib\\arraysetops.py:569: FutureWarning: elementwise comparison failed; returning scalar instead, but in the future will perform elementwise comparison\n",
      "  mask |= (ar1 == a)\n"
     ]
    }
   ],
   "source": [
    "dt = pd.read_csv('renfe.csv', index_col = 0)"
   ]
  },
  {
   "cell_type": "markdown",
   "metadata": {},
   "source": [
    "Ahora usamos los comandos aprendidos anteriormente para obtener información del set de datos."
   ]
  },
  {
   "cell_type": "markdown",
   "metadata": {},
   "source": [
    "Con el comando info vemos si existen elementos nulos"
   ]
  },
  {
   "cell_type": "code",
   "execution_count": 11,
   "metadata": {},
   "outputs": [
    {
     "name": "stdout",
     "output_type": "stream",
     "text": [
      "<class 'pandas.core.frame.DataFrame'>\n",
      "RangeIndex: 2579771 entries, 0 to 2579770\n",
      "Data columns (total 10 columns):\n",
      "Unnamed: 0     int64\n",
      "insert_date    object\n",
      "origin         object\n",
      "destination    object\n",
      "start_date     object\n",
      "end_date       object\n",
      "train_type     object\n",
      "price          float64\n",
      "train_class    object\n",
      "fare           object\n",
      "dtypes: float64(1), int64(1), object(8)\n",
      "memory usage: 196.8+ MB\n"
     ]
    }
   ],
   "source": [
    "dt.info()"
   ]
  },
  {
   "cell_type": "code",
   "execution_count": 5,
   "metadata": {},
   "outputs": [
    {
     "data": {
      "text/html": [
       "<div>\n",
       "<style scoped>\n",
       "    .dataframe tbody tr th:only-of-type {\n",
       "        vertical-align: middle;\n",
       "    }\n",
       "\n",
       "    .dataframe tbody tr th {\n",
       "        vertical-align: top;\n",
       "    }\n",
       "\n",
       "    .dataframe thead th {\n",
       "        text-align: right;\n",
       "    }\n",
       "</style>\n",
       "<table border=\"1\" class=\"dataframe\">\n",
       "  <thead>\n",
       "    <tr style=\"text-align: right;\">\n",
       "      <th></th>\n",
       "      <th>insert_date</th>\n",
       "      <th>origin</th>\n",
       "      <th>destination</th>\n",
       "      <th>start_date</th>\n",
       "      <th>end_date</th>\n",
       "      <th>train_type</th>\n",
       "      <th>price</th>\n",
       "      <th>train_class</th>\n",
       "      <th>fare</th>\n",
       "    </tr>\n",
       "  </thead>\n",
       "  <tbody>\n",
       "    <tr>\n",
       "      <th>0</th>\n",
       "      <td>2019-04-19 05:31:43</td>\n",
       "      <td>MADRID</td>\n",
       "      <td>SEVILLA</td>\n",
       "      <td>2019-05-29 06:20:00</td>\n",
       "      <td>2019-05-29 09:16:00</td>\n",
       "      <td>AV City</td>\n",
       "      <td>38.550000</td>\n",
       "      <td>Turista</td>\n",
       "      <td>Promo</td>\n",
       "    </tr>\n",
       "    <tr>\n",
       "      <th>1</th>\n",
       "      <td>2019-04-19 05:31:43</td>\n",
       "      <td>MADRID</td>\n",
       "      <td>SEVILLA</td>\n",
       "      <td>2019-05-29 07:00:00</td>\n",
       "      <td>2019-05-29 09:32:00</td>\n",
       "      <td>AVE</td>\n",
       "      <td>53.400000</td>\n",
       "      <td>Turista</td>\n",
       "      <td>Promo</td>\n",
       "    </tr>\n",
       "    <tr>\n",
       "      <th>2</th>\n",
       "      <td>2019-04-19 05:31:43</td>\n",
       "      <td>MADRID</td>\n",
       "      <td>SEVILLA</td>\n",
       "      <td>2019-05-29 07:30:00</td>\n",
       "      <td>2019-05-29 09:51:00</td>\n",
       "      <td>AVE</td>\n",
       "      <td>47.300000</td>\n",
       "      <td>Turista</td>\n",
       "      <td>Promo</td>\n",
       "    </tr>\n",
       "    <tr>\n",
       "      <th>3</th>\n",
       "      <td>2019-04-19 05:31:43</td>\n",
       "      <td>MADRID</td>\n",
       "      <td>SEVILLA</td>\n",
       "      <td>2019-05-29 08:00:00</td>\n",
       "      <td>2019-05-29 10:32:00</td>\n",
       "      <td>AVE</td>\n",
       "      <td>69.400000</td>\n",
       "      <td>Preferente</td>\n",
       "      <td>Promo</td>\n",
       "    </tr>\n",
       "    <tr>\n",
       "      <th>4</th>\n",
       "      <td>2019-04-19 05:31:43</td>\n",
       "      <td>MADRID</td>\n",
       "      <td>SEVILLA</td>\n",
       "      <td>2019-05-29 08:30:00</td>\n",
       "      <td>2019-05-29 11:14:00</td>\n",
       "      <td>ALVIA</td>\n",
       "      <td>63.385503</td>\n",
       "      <td>Turista</td>\n",
       "      <td>Promo</td>\n",
       "    </tr>\n",
       "    <tr>\n",
       "      <th>5</th>\n",
       "      <td>2019-04-19 05:31:43</td>\n",
       "      <td>MADRID</td>\n",
       "      <td>SEVILLA</td>\n",
       "      <td>2019-05-29 09:00:00</td>\n",
       "      <td>2019-05-29 11:38:00</td>\n",
       "      <td>AVE</td>\n",
       "      <td>60.300000</td>\n",
       "      <td>Turista</td>\n",
       "      <td>Promo</td>\n",
       "    </tr>\n",
       "    <tr>\n",
       "      <th>6</th>\n",
       "      <td>2019-04-19 05:31:43</td>\n",
       "      <td>MADRID</td>\n",
       "      <td>SEVILLA</td>\n",
       "      <td>2019-05-29 09:45:00</td>\n",
       "      <td>2019-05-29 12:27:00</td>\n",
       "      <td>INTERCITY</td>\n",
       "      <td>62.200000</td>\n",
       "      <td>Turista</td>\n",
       "      <td>Flexible</td>\n",
       "    </tr>\n",
       "    <tr>\n",
       "      <th>7</th>\n",
       "      <td>2019-04-19 05:31:43</td>\n",
       "      <td>MADRID</td>\n",
       "      <td>SEVILLA</td>\n",
       "      <td>2019-05-29 10:00:00</td>\n",
       "      <td>2019-05-29 12:32:00</td>\n",
       "      <td>AVE</td>\n",
       "      <td>47.300000</td>\n",
       "      <td>Turista</td>\n",
       "      <td>Promo</td>\n",
       "    </tr>\n",
       "    <tr>\n",
       "      <th>8</th>\n",
       "      <td>2019-04-19 05:31:43</td>\n",
       "      <td>MADRID</td>\n",
       "      <td>SEVILLA</td>\n",
       "      <td>2019-05-29 11:00:00</td>\n",
       "      <td>2019-05-29 13:32:00</td>\n",
       "      <td>AVE</td>\n",
       "      <td>53.400000</td>\n",
       "      <td>Turista</td>\n",
       "      <td>Promo</td>\n",
       "    </tr>\n",
       "    <tr>\n",
       "      <th>9</th>\n",
       "      <td>2019-04-19 05:31:43</td>\n",
       "      <td>MADRID</td>\n",
       "      <td>SEVILLA</td>\n",
       "      <td>2019-05-29 11:05:00</td>\n",
       "      <td>2019-05-29 13:41:00</td>\n",
       "      <td>ALVIA</td>\n",
       "      <td>63.385503</td>\n",
       "      <td>Turista</td>\n",
       "      <td>Promo</td>\n",
       "    </tr>\n",
       "    <tr>\n",
       "      <th>10</th>\n",
       "      <td>2019-04-19 05:31:43</td>\n",
       "      <td>MADRID</td>\n",
       "      <td>SEVILLA</td>\n",
       "      <td>2019-05-29 12:00:00</td>\n",
       "      <td>2019-05-29 14:32:00</td>\n",
       "      <td>AVE</td>\n",
       "      <td>53.400000</td>\n",
       "      <td>Turista</td>\n",
       "      <td>Promo</td>\n",
       "    </tr>\n",
       "    <tr>\n",
       "      <th>11</th>\n",
       "      <td>2019-04-19 05:31:43</td>\n",
       "      <td>MADRID</td>\n",
       "      <td>SEVILLA</td>\n",
       "      <td>2019-05-29 13:00:00</td>\n",
       "      <td>2019-05-29 15:40:00</td>\n",
       "      <td>AVE</td>\n",
       "      <td>53.400000</td>\n",
       "      <td>Turista</td>\n",
       "      <td>Promo</td>\n",
       "    </tr>\n",
       "    <tr>\n",
       "      <th>12</th>\n",
       "      <td>2019-04-19 05:31:43</td>\n",
       "      <td>MADRID</td>\n",
       "      <td>SEVILLA</td>\n",
       "      <td>2019-05-29 13:30:00</td>\n",
       "      <td>2019-05-29 16:05:00</td>\n",
       "      <td>ALVIA</td>\n",
       "      <td>63.385503</td>\n",
       "      <td>Turista</td>\n",
       "      <td>Promo</td>\n",
       "    </tr>\n",
       "    <tr>\n",
       "      <th>13</th>\n",
       "      <td>2019-04-19 05:31:43</td>\n",
       "      <td>MADRID</td>\n",
       "      <td>SEVILLA</td>\n",
       "      <td>2019-05-29 14:00:00</td>\n",
       "      <td>2019-05-29 16:32:00</td>\n",
       "      <td>AVE</td>\n",
       "      <td>60.300000</td>\n",
       "      <td>Turista</td>\n",
       "      <td>Promo</td>\n",
       "    </tr>\n",
       "    <tr>\n",
       "      <th>14</th>\n",
       "      <td>2019-04-19 05:31:43</td>\n",
       "      <td>MADRID</td>\n",
       "      <td>SEVILLA</td>\n",
       "      <td>2019-05-29 15:00:00</td>\n",
       "      <td>2019-05-29 17:21:00</td>\n",
       "      <td>AVE</td>\n",
       "      <td>60.300000</td>\n",
       "      <td>Turista</td>\n",
       "      <td>Promo</td>\n",
       "    </tr>\n",
       "    <tr>\n",
       "      <th>15</th>\n",
       "      <td>2019-04-19 05:31:43</td>\n",
       "      <td>MADRID</td>\n",
       "      <td>SEVILLA</td>\n",
       "      <td>2019-05-29 16:00:00</td>\n",
       "      <td>2019-05-29 18:30:00</td>\n",
       "      <td>AVE</td>\n",
       "      <td>60.300000</td>\n",
       "      <td>Turista</td>\n",
       "      <td>Promo</td>\n",
       "    </tr>\n",
       "    <tr>\n",
       "      <th>16</th>\n",
       "      <td>2019-04-19 05:31:43</td>\n",
       "      <td>MADRID</td>\n",
       "      <td>SEVILLA</td>\n",
       "      <td>2019-05-29 16:30:00</td>\n",
       "      <td>2019-05-29 18:51:00</td>\n",
       "      <td>AVE</td>\n",
       "      <td>76.300000</td>\n",
       "      <td>Turista</td>\n",
       "      <td>Flexible</td>\n",
       "    </tr>\n",
       "    <tr>\n",
       "      <th>17</th>\n",
       "      <td>2019-04-19 05:31:43</td>\n",
       "      <td>MADRID</td>\n",
       "      <td>SEVILLA</td>\n",
       "      <td>2019-05-29 17:00:00</td>\n",
       "      <td>2019-05-29 19:38:00</td>\n",
       "      <td>AVE</td>\n",
       "      <td>76.300000</td>\n",
       "      <td>Turista</td>\n",
       "      <td>Flexible</td>\n",
       "    </tr>\n",
       "    <tr>\n",
       "      <th>18</th>\n",
       "      <td>2019-04-19 05:31:43</td>\n",
       "      <td>MADRID</td>\n",
       "      <td>SEVILLA</td>\n",
       "      <td>2019-05-29 18:00:00</td>\n",
       "      <td>2019-05-29 20:32:00</td>\n",
       "      <td>AVE</td>\n",
       "      <td>76.300000</td>\n",
       "      <td>Turista</td>\n",
       "      <td>Flexible</td>\n",
       "    </tr>\n",
       "    <tr>\n",
       "      <th>19</th>\n",
       "      <td>2019-04-19 05:31:43</td>\n",
       "      <td>MADRID</td>\n",
       "      <td>SEVILLA</td>\n",
       "      <td>2019-05-29 18:35:00</td>\n",
       "      <td>2019-05-29 21:08:00</td>\n",
       "      <td>ALVIA</td>\n",
       "      <td>67.200000</td>\n",
       "      <td>Turista</td>\n",
       "      <td>Flexible</td>\n",
       "    </tr>\n",
       "    <tr>\n",
       "      <th>20</th>\n",
       "      <td>2019-04-19 05:31:43</td>\n",
       "      <td>MADRID</td>\n",
       "      <td>SEVILLA</td>\n",
       "      <td>2019-05-29 19:00:00</td>\n",
       "      <td>2019-05-29 21:38:00</td>\n",
       "      <td>AVE</td>\n",
       "      <td>76.300000</td>\n",
       "      <td>Turista</td>\n",
       "      <td>Flexible</td>\n",
       "    </tr>\n",
       "    <tr>\n",
       "      <th>21</th>\n",
       "      <td>2019-04-19 05:31:43</td>\n",
       "      <td>MADRID</td>\n",
       "      <td>SEVILLA</td>\n",
       "      <td>2019-05-29 19:30:00</td>\n",
       "      <td>2019-05-29 22:05:00</td>\n",
       "      <td>AVE</td>\n",
       "      <td>60.300000</td>\n",
       "      <td>Turista</td>\n",
       "      <td>Promo</td>\n",
       "    </tr>\n",
       "    <tr>\n",
       "      <th>22</th>\n",
       "      <td>2019-04-19 05:31:43</td>\n",
       "      <td>MADRID</td>\n",
       "      <td>SEVILLA</td>\n",
       "      <td>2019-05-29 20:35:00</td>\n",
       "      <td>2019-05-29 23:15:00</td>\n",
       "      <td>AVE</td>\n",
       "      <td>53.400000</td>\n",
       "      <td>Turista</td>\n",
       "      <td>Promo</td>\n",
       "    </tr>\n",
       "    <tr>\n",
       "      <th>23</th>\n",
       "      <td>2019-04-19 05:31:43</td>\n",
       "      <td>MADRID</td>\n",
       "      <td>SEVILLA</td>\n",
       "      <td>2019-05-29 21:25:00</td>\n",
       "      <td>2019-05-30 00:10:00</td>\n",
       "      <td>AV City</td>\n",
       "      <td>43.550000</td>\n",
       "      <td>Turista</td>\n",
       "      <td>Promo</td>\n",
       "    </tr>\n",
       "    <tr>\n",
       "      <th>24</th>\n",
       "      <td>2019-04-19 05:31:54</td>\n",
       "      <td>MADRID</td>\n",
       "      <td>SEVILLA</td>\n",
       "      <td>2019-04-23 06:20:00</td>\n",
       "      <td>2019-04-23 09:16:00</td>\n",
       "      <td>AV City</td>\n",
       "      <td>43.550000</td>\n",
       "      <td>Turista</td>\n",
       "      <td>Promo</td>\n",
       "    </tr>\n",
       "    <tr>\n",
       "      <th>25</th>\n",
       "      <td>2019-04-19 05:31:54</td>\n",
       "      <td>MADRID</td>\n",
       "      <td>SEVILLA</td>\n",
       "      <td>2019-04-23 07:00:00</td>\n",
       "      <td>2019-04-23 09:32:00</td>\n",
       "      <td>AVE</td>\n",
       "      <td>76.300000</td>\n",
       "      <td>Turista</td>\n",
       "      <td>Flexible</td>\n",
       "    </tr>\n",
       "    <tr>\n",
       "      <th>26</th>\n",
       "      <td>2019-04-19 05:31:54</td>\n",
       "      <td>MADRID</td>\n",
       "      <td>SEVILLA</td>\n",
       "      <td>2019-04-23 07:30:00</td>\n",
       "      <td>2019-04-23 09:51:00</td>\n",
       "      <td>AVE</td>\n",
       "      <td>76.300000</td>\n",
       "      <td>Turista</td>\n",
       "      <td>Flexible</td>\n",
       "    </tr>\n",
       "    <tr>\n",
       "      <th>27</th>\n",
       "      <td>2019-04-19 05:31:54</td>\n",
       "      <td>MADRID</td>\n",
       "      <td>SEVILLA</td>\n",
       "      <td>2019-04-23 08:00:00</td>\n",
       "      <td>2019-04-23 10:32:00</td>\n",
       "      <td>AVE</td>\n",
       "      <td>76.300000</td>\n",
       "      <td>Turista</td>\n",
       "      <td>Flexible</td>\n",
       "    </tr>\n",
       "    <tr>\n",
       "      <th>28</th>\n",
       "      <td>2019-04-19 05:31:54</td>\n",
       "      <td>MADRID</td>\n",
       "      <td>SEVILLA</td>\n",
       "      <td>2019-04-23 08:30:00</td>\n",
       "      <td>2019-04-23 11:14:00</td>\n",
       "      <td>ALVIA</td>\n",
       "      <td>63.385503</td>\n",
       "      <td>Turista</td>\n",
       "      <td>Flexible</td>\n",
       "    </tr>\n",
       "    <tr>\n",
       "      <th>29</th>\n",
       "      <td>2019-04-19 05:31:54</td>\n",
       "      <td>MADRID</td>\n",
       "      <td>SEVILLA</td>\n",
       "      <td>2019-04-23 09:00:00</td>\n",
       "      <td>2019-04-23 11:38:00</td>\n",
       "      <td>AVE</td>\n",
       "      <td>76.300000</td>\n",
       "      <td>Turista</td>\n",
       "      <td>Flexible</td>\n",
       "    </tr>\n",
       "    <tr>\n",
       "      <th>...</th>\n",
       "      <td>...</td>\n",
       "      <td>...</td>\n",
       "      <td>...</td>\n",
       "      <td>...</td>\n",
       "      <td>...</td>\n",
       "      <td>...</td>\n",
       "      <td>...</td>\n",
       "      <td>...</td>\n",
       "      <td>...</td>\n",
       "    </tr>\n",
       "    <tr>\n",
       "      <th>2579741</th>\n",
       "      <td>2019-04-19 05:31:36</td>\n",
       "      <td>MADRID</td>\n",
       "      <td>SEVILLA</td>\n",
       "      <td>2019-05-31 19:00:00</td>\n",
       "      <td>2019-05-31 21:38:00</td>\n",
       "      <td>AVE</td>\n",
       "      <td>69.400000</td>\n",
       "      <td>Preferente</td>\n",
       "      <td>Promo</td>\n",
       "    </tr>\n",
       "    <tr>\n",
       "      <th>2579742</th>\n",
       "      <td>2019-04-19 05:31:36</td>\n",
       "      <td>MADRID</td>\n",
       "      <td>SEVILLA</td>\n",
       "      <td>2019-05-31 19:30:00</td>\n",
       "      <td>2019-05-31 22:05:00</td>\n",
       "      <td>AVE</td>\n",
       "      <td>60.300000</td>\n",
       "      <td>Turista</td>\n",
       "      <td>Promo</td>\n",
       "    </tr>\n",
       "    <tr>\n",
       "      <th>2579743</th>\n",
       "      <td>2019-04-19 05:31:36</td>\n",
       "      <td>MADRID</td>\n",
       "      <td>SEVILLA</td>\n",
       "      <td>2019-05-31 20:00:00</td>\n",
       "      <td>2019-05-31 22:21:00</td>\n",
       "      <td>AVE</td>\n",
       "      <td>60.300000</td>\n",
       "      <td>Turista</td>\n",
       "      <td>Promo</td>\n",
       "    </tr>\n",
       "    <tr>\n",
       "      <th>2579744</th>\n",
       "      <td>2019-04-19 05:31:36</td>\n",
       "      <td>MADRID</td>\n",
       "      <td>SEVILLA</td>\n",
       "      <td>2019-05-31 20:35:00</td>\n",
       "      <td>2019-05-31 23:15:00</td>\n",
       "      <td>AVE</td>\n",
       "      <td>53.400000</td>\n",
       "      <td>Turista</td>\n",
       "      <td>Promo</td>\n",
       "    </tr>\n",
       "    <tr>\n",
       "      <th>2579745</th>\n",
       "      <td>2019-04-19 05:31:36</td>\n",
       "      <td>MADRID</td>\n",
       "      <td>SEVILLA</td>\n",
       "      <td>2019-05-31 21:25:00</td>\n",
       "      <td>2019-06-01 00:10:00</td>\n",
       "      <td>AV City</td>\n",
       "      <td>49.150000</td>\n",
       "      <td>Turista</td>\n",
       "      <td>Promo</td>\n",
       "    </tr>\n",
       "    <tr>\n",
       "      <th>2579746</th>\n",
       "      <td>2019-04-19 05:31:38</td>\n",
       "      <td>MADRID</td>\n",
       "      <td>SEVILLA</td>\n",
       "      <td>2019-05-30 06:20:00</td>\n",
       "      <td>2019-05-30 09:16:00</td>\n",
       "      <td>AV City</td>\n",
       "      <td>49.150000</td>\n",
       "      <td>Turista</td>\n",
       "      <td>Promo</td>\n",
       "    </tr>\n",
       "    <tr>\n",
       "      <th>2579747</th>\n",
       "      <td>2019-04-19 05:31:38</td>\n",
       "      <td>MADRID</td>\n",
       "      <td>SEVILLA</td>\n",
       "      <td>2019-05-30 07:00:00</td>\n",
       "      <td>2019-05-30 09:32:00</td>\n",
       "      <td>AVE</td>\n",
       "      <td>69.400000</td>\n",
       "      <td>Preferente</td>\n",
       "      <td>Promo</td>\n",
       "    </tr>\n",
       "    <tr>\n",
       "      <th>2579748</th>\n",
       "      <td>2019-04-19 05:31:38</td>\n",
       "      <td>MADRID</td>\n",
       "      <td>SEVILLA</td>\n",
       "      <td>2019-05-30 07:30:00</td>\n",
       "      <td>2019-05-30 09:51:00</td>\n",
       "      <td>AVE</td>\n",
       "      <td>69.400000</td>\n",
       "      <td>Preferente</td>\n",
       "      <td>Promo</td>\n",
       "    </tr>\n",
       "    <tr>\n",
       "      <th>2579749</th>\n",
       "      <td>2019-04-19 05:31:38</td>\n",
       "      <td>MADRID</td>\n",
       "      <td>SEVILLA</td>\n",
       "      <td>2019-05-30 08:00:00</td>\n",
       "      <td>2019-05-30 10:32:00</td>\n",
       "      <td>AVE</td>\n",
       "      <td>69.400000</td>\n",
       "      <td>Preferente</td>\n",
       "      <td>Promo</td>\n",
       "    </tr>\n",
       "    <tr>\n",
       "      <th>2579750</th>\n",
       "      <td>2019-04-19 05:31:38</td>\n",
       "      <td>MADRID</td>\n",
       "      <td>SEVILLA</td>\n",
       "      <td>2019-05-30 08:30:00</td>\n",
       "      <td>2019-05-30 11:14:00</td>\n",
       "      <td>ALVIA</td>\n",
       "      <td>63.385503</td>\n",
       "      <td>Turista</td>\n",
       "      <td>Flexible</td>\n",
       "    </tr>\n",
       "    <tr>\n",
       "      <th>2579751</th>\n",
       "      <td>2019-04-19 05:31:38</td>\n",
       "      <td>MADRID</td>\n",
       "      <td>SEVILLA</td>\n",
       "      <td>2019-05-30 09:00:00</td>\n",
       "      <td>2019-05-30 11:38:00</td>\n",
       "      <td>AVE</td>\n",
       "      <td>76.300000</td>\n",
       "      <td>Turista</td>\n",
       "      <td>Flexible</td>\n",
       "    </tr>\n",
       "    <tr>\n",
       "      <th>2579752</th>\n",
       "      <td>2019-04-19 05:31:38</td>\n",
       "      <td>MADRID</td>\n",
       "      <td>SEVILLA</td>\n",
       "      <td>2019-05-30 09:45:00</td>\n",
       "      <td>2019-05-30 12:27:00</td>\n",
       "      <td>INTERCITY</td>\n",
       "      <td>62.200000</td>\n",
       "      <td>Turista</td>\n",
       "      <td>Flexible</td>\n",
       "    </tr>\n",
       "    <tr>\n",
       "      <th>2579753</th>\n",
       "      <td>2019-04-19 05:31:38</td>\n",
       "      <td>MADRID</td>\n",
       "      <td>SEVILLA</td>\n",
       "      <td>2019-05-30 10:00:00</td>\n",
       "      <td>2019-05-30 12:32:00</td>\n",
       "      <td>AVE</td>\n",
       "      <td>76.300000</td>\n",
       "      <td>Turista</td>\n",
       "      <td>Flexible</td>\n",
       "    </tr>\n",
       "    <tr>\n",
       "      <th>2579754</th>\n",
       "      <td>2019-04-19 05:31:38</td>\n",
       "      <td>MADRID</td>\n",
       "      <td>SEVILLA</td>\n",
       "      <td>2019-05-30 11:00:00</td>\n",
       "      <td>2019-05-30 13:32:00</td>\n",
       "      <td>AVE</td>\n",
       "      <td>76.300000</td>\n",
       "      <td>Turista</td>\n",
       "      <td>Flexible</td>\n",
       "    </tr>\n",
       "    <tr>\n",
       "      <th>2579755</th>\n",
       "      <td>2019-04-19 05:31:38</td>\n",
       "      <td>MADRID</td>\n",
       "      <td>SEVILLA</td>\n",
       "      <td>2019-05-30 11:05:00</td>\n",
       "      <td>2019-05-30 13:41:00</td>\n",
       "      <td>ALVIA</td>\n",
       "      <td>63.385503</td>\n",
       "      <td>Turista</td>\n",
       "      <td>Promo</td>\n",
       "    </tr>\n",
       "    <tr>\n",
       "      <th>2579756</th>\n",
       "      <td>2019-04-19 05:31:38</td>\n",
       "      <td>MADRID</td>\n",
       "      <td>SEVILLA</td>\n",
       "      <td>2019-05-30 12:00:00</td>\n",
       "      <td>2019-05-30 14:32:00</td>\n",
       "      <td>AVE</td>\n",
       "      <td>53.400000</td>\n",
       "      <td>Turista</td>\n",
       "      <td>Promo</td>\n",
       "    </tr>\n",
       "    <tr>\n",
       "      <th>2579757</th>\n",
       "      <td>2019-04-19 05:31:38</td>\n",
       "      <td>MADRID</td>\n",
       "      <td>SEVILLA</td>\n",
       "      <td>2019-05-30 13:00:00</td>\n",
       "      <td>2019-05-30 15:40:00</td>\n",
       "      <td>AVE</td>\n",
       "      <td>60.300000</td>\n",
       "      <td>Turista</td>\n",
       "      <td>Promo</td>\n",
       "    </tr>\n",
       "    <tr>\n",
       "      <th>2579758</th>\n",
       "      <td>2019-04-19 05:31:38</td>\n",
       "      <td>MADRID</td>\n",
       "      <td>SEVILLA</td>\n",
       "      <td>2019-05-30 13:30:00</td>\n",
       "      <td>2019-05-30 16:05:00</td>\n",
       "      <td>ALVIA</td>\n",
       "      <td>61.200000</td>\n",
       "      <td>Preferente</td>\n",
       "      <td>Promo</td>\n",
       "    </tr>\n",
       "    <tr>\n",
       "      <th>2579759</th>\n",
       "      <td>2019-04-19 05:31:38</td>\n",
       "      <td>MADRID</td>\n",
       "      <td>SEVILLA</td>\n",
       "      <td>2019-05-30 14:00:00</td>\n",
       "      <td>2019-05-30 16:32:00</td>\n",
       "      <td>AVE</td>\n",
       "      <td>60.300000</td>\n",
       "      <td>Turista</td>\n",
       "      <td>Promo</td>\n",
       "    </tr>\n",
       "    <tr>\n",
       "      <th>2579760</th>\n",
       "      <td>2019-04-19 05:31:38</td>\n",
       "      <td>MADRID</td>\n",
       "      <td>SEVILLA</td>\n",
       "      <td>2019-05-30 15:00:00</td>\n",
       "      <td>2019-05-30 17:21:00</td>\n",
       "      <td>AVE</td>\n",
       "      <td>76.300000</td>\n",
       "      <td>Turista</td>\n",
       "      <td>Flexible</td>\n",
       "    </tr>\n",
       "    <tr>\n",
       "      <th>2579761</th>\n",
       "      <td>2019-04-19 05:31:38</td>\n",
       "      <td>MADRID</td>\n",
       "      <td>SEVILLA</td>\n",
       "      <td>2019-05-30 16:00:00</td>\n",
       "      <td>2019-05-30 18:30:00</td>\n",
       "      <td>AVE</td>\n",
       "      <td>76.300000</td>\n",
       "      <td>Turista</td>\n",
       "      <td>Flexible</td>\n",
       "    </tr>\n",
       "    <tr>\n",
       "      <th>2579762</th>\n",
       "      <td>2019-04-19 05:31:38</td>\n",
       "      <td>MADRID</td>\n",
       "      <td>SEVILLA</td>\n",
       "      <td>2019-05-30 16:30:00</td>\n",
       "      <td>2019-05-30 18:51:00</td>\n",
       "      <td>AVE</td>\n",
       "      <td>76.300000</td>\n",
       "      <td>Turista</td>\n",
       "      <td>Flexible</td>\n",
       "    </tr>\n",
       "    <tr>\n",
       "      <th>2579763</th>\n",
       "      <td>2019-04-19 05:31:38</td>\n",
       "      <td>MADRID</td>\n",
       "      <td>SEVILLA</td>\n",
       "      <td>2019-05-30 17:00:00</td>\n",
       "      <td>2019-05-30 19:38:00</td>\n",
       "      <td>AVE</td>\n",
       "      <td>76.300000</td>\n",
       "      <td>Turista</td>\n",
       "      <td>Flexible</td>\n",
       "    </tr>\n",
       "    <tr>\n",
       "      <th>2579764</th>\n",
       "      <td>2019-04-19 05:31:38</td>\n",
       "      <td>MADRID</td>\n",
       "      <td>SEVILLA</td>\n",
       "      <td>2019-05-30 18:00:00</td>\n",
       "      <td>2019-05-30 20:32:00</td>\n",
       "      <td>AVE</td>\n",
       "      <td>60.300000</td>\n",
       "      <td>Turista</td>\n",
       "      <td>Promo</td>\n",
       "    </tr>\n",
       "    <tr>\n",
       "      <th>2579765</th>\n",
       "      <td>2019-04-19 05:31:38</td>\n",
       "      <td>MADRID</td>\n",
       "      <td>SEVILLA</td>\n",
       "      <td>2019-05-30 18:35:00</td>\n",
       "      <td>2019-05-30 21:08:00</td>\n",
       "      <td>ALVIA</td>\n",
       "      <td>67.200000</td>\n",
       "      <td>Turista</td>\n",
       "      <td>Flexible</td>\n",
       "    </tr>\n",
       "    <tr>\n",
       "      <th>2579766</th>\n",
       "      <td>2019-04-19 05:31:38</td>\n",
       "      <td>MADRID</td>\n",
       "      <td>SEVILLA</td>\n",
       "      <td>2019-05-30 19:00:00</td>\n",
       "      <td>2019-05-30 21:38:00</td>\n",
       "      <td>AVE</td>\n",
       "      <td>76.300000</td>\n",
       "      <td>Turista</td>\n",
       "      <td>Flexible</td>\n",
       "    </tr>\n",
       "    <tr>\n",
       "      <th>2579767</th>\n",
       "      <td>2019-04-19 05:31:38</td>\n",
       "      <td>MADRID</td>\n",
       "      <td>SEVILLA</td>\n",
       "      <td>2019-05-30 19:30:00</td>\n",
       "      <td>2019-05-30 22:05:00</td>\n",
       "      <td>AVE</td>\n",
       "      <td>76.300000</td>\n",
       "      <td>Turista</td>\n",
       "      <td>Flexible</td>\n",
       "    </tr>\n",
       "    <tr>\n",
       "      <th>2579768</th>\n",
       "      <td>2019-04-19 05:31:38</td>\n",
       "      <td>MADRID</td>\n",
       "      <td>SEVILLA</td>\n",
       "      <td>2019-05-30 20:00:00</td>\n",
       "      <td>2019-05-30 22:21:00</td>\n",
       "      <td>AVE</td>\n",
       "      <td>72.300000</td>\n",
       "      <td>Turista Plus</td>\n",
       "      <td>Promo</td>\n",
       "    </tr>\n",
       "    <tr>\n",
       "      <th>2579769</th>\n",
       "      <td>2019-04-19 05:31:38</td>\n",
       "      <td>MADRID</td>\n",
       "      <td>SEVILLA</td>\n",
       "      <td>2019-05-30 20:35:00</td>\n",
       "      <td>2019-05-30 23:15:00</td>\n",
       "      <td>AVE</td>\n",
       "      <td>76.300000</td>\n",
       "      <td>Turista</td>\n",
       "      <td>Flexible</td>\n",
       "    </tr>\n",
       "    <tr>\n",
       "      <th>2579770</th>\n",
       "      <td>2019-04-19 05:31:38</td>\n",
       "      <td>MADRID</td>\n",
       "      <td>SEVILLA</td>\n",
       "      <td>2019-05-30 21:25:00</td>\n",
       "      <td>2019-05-31 00:10:00</td>\n",
       "      <td>AV City</td>\n",
       "      <td>49.150000</td>\n",
       "      <td>Turista</td>\n",
       "      <td>Promo</td>\n",
       "    </tr>\n",
       "  </tbody>\n",
       "</table>\n",
       "<p>2579771 rows × 9 columns</p>\n",
       "</div>"
      ],
      "text/plain": [
       "                 insert_date  origin destination           start_date  \\\n",
       "0        2019-04-19 05:31:43  MADRID     SEVILLA  2019-05-29 06:20:00   \n",
       "1        2019-04-19 05:31:43  MADRID     SEVILLA  2019-05-29 07:00:00   \n",
       "2        2019-04-19 05:31:43  MADRID     SEVILLA  2019-05-29 07:30:00   \n",
       "3        2019-04-19 05:31:43  MADRID     SEVILLA  2019-05-29 08:00:00   \n",
       "4        2019-04-19 05:31:43  MADRID     SEVILLA  2019-05-29 08:30:00   \n",
       "5        2019-04-19 05:31:43  MADRID     SEVILLA  2019-05-29 09:00:00   \n",
       "6        2019-04-19 05:31:43  MADRID     SEVILLA  2019-05-29 09:45:00   \n",
       "7        2019-04-19 05:31:43  MADRID     SEVILLA  2019-05-29 10:00:00   \n",
       "8        2019-04-19 05:31:43  MADRID     SEVILLA  2019-05-29 11:00:00   \n",
       "9        2019-04-19 05:31:43  MADRID     SEVILLA  2019-05-29 11:05:00   \n",
       "10       2019-04-19 05:31:43  MADRID     SEVILLA  2019-05-29 12:00:00   \n",
       "11       2019-04-19 05:31:43  MADRID     SEVILLA  2019-05-29 13:00:00   \n",
       "12       2019-04-19 05:31:43  MADRID     SEVILLA  2019-05-29 13:30:00   \n",
       "13       2019-04-19 05:31:43  MADRID     SEVILLA  2019-05-29 14:00:00   \n",
       "14       2019-04-19 05:31:43  MADRID     SEVILLA  2019-05-29 15:00:00   \n",
       "15       2019-04-19 05:31:43  MADRID     SEVILLA  2019-05-29 16:00:00   \n",
       "16       2019-04-19 05:31:43  MADRID     SEVILLA  2019-05-29 16:30:00   \n",
       "17       2019-04-19 05:31:43  MADRID     SEVILLA  2019-05-29 17:00:00   \n",
       "18       2019-04-19 05:31:43  MADRID     SEVILLA  2019-05-29 18:00:00   \n",
       "19       2019-04-19 05:31:43  MADRID     SEVILLA  2019-05-29 18:35:00   \n",
       "20       2019-04-19 05:31:43  MADRID     SEVILLA  2019-05-29 19:00:00   \n",
       "21       2019-04-19 05:31:43  MADRID     SEVILLA  2019-05-29 19:30:00   \n",
       "22       2019-04-19 05:31:43  MADRID     SEVILLA  2019-05-29 20:35:00   \n",
       "23       2019-04-19 05:31:43  MADRID     SEVILLA  2019-05-29 21:25:00   \n",
       "24       2019-04-19 05:31:54  MADRID     SEVILLA  2019-04-23 06:20:00   \n",
       "25       2019-04-19 05:31:54  MADRID     SEVILLA  2019-04-23 07:00:00   \n",
       "26       2019-04-19 05:31:54  MADRID     SEVILLA  2019-04-23 07:30:00   \n",
       "27       2019-04-19 05:31:54  MADRID     SEVILLA  2019-04-23 08:00:00   \n",
       "28       2019-04-19 05:31:54  MADRID     SEVILLA  2019-04-23 08:30:00   \n",
       "29       2019-04-19 05:31:54  MADRID     SEVILLA  2019-04-23 09:00:00   \n",
       "...                      ...     ...         ...                  ...   \n",
       "2579741  2019-04-19 05:31:36  MADRID     SEVILLA  2019-05-31 19:00:00   \n",
       "2579742  2019-04-19 05:31:36  MADRID     SEVILLA  2019-05-31 19:30:00   \n",
       "2579743  2019-04-19 05:31:36  MADRID     SEVILLA  2019-05-31 20:00:00   \n",
       "2579744  2019-04-19 05:31:36  MADRID     SEVILLA  2019-05-31 20:35:00   \n",
       "2579745  2019-04-19 05:31:36  MADRID     SEVILLA  2019-05-31 21:25:00   \n",
       "2579746  2019-04-19 05:31:38  MADRID     SEVILLA  2019-05-30 06:20:00   \n",
       "2579747  2019-04-19 05:31:38  MADRID     SEVILLA  2019-05-30 07:00:00   \n",
       "2579748  2019-04-19 05:31:38  MADRID     SEVILLA  2019-05-30 07:30:00   \n",
       "2579749  2019-04-19 05:31:38  MADRID     SEVILLA  2019-05-30 08:00:00   \n",
       "2579750  2019-04-19 05:31:38  MADRID     SEVILLA  2019-05-30 08:30:00   \n",
       "2579751  2019-04-19 05:31:38  MADRID     SEVILLA  2019-05-30 09:00:00   \n",
       "2579752  2019-04-19 05:31:38  MADRID     SEVILLA  2019-05-30 09:45:00   \n",
       "2579753  2019-04-19 05:31:38  MADRID     SEVILLA  2019-05-30 10:00:00   \n",
       "2579754  2019-04-19 05:31:38  MADRID     SEVILLA  2019-05-30 11:00:00   \n",
       "2579755  2019-04-19 05:31:38  MADRID     SEVILLA  2019-05-30 11:05:00   \n",
       "2579756  2019-04-19 05:31:38  MADRID     SEVILLA  2019-05-30 12:00:00   \n",
       "2579757  2019-04-19 05:31:38  MADRID     SEVILLA  2019-05-30 13:00:00   \n",
       "2579758  2019-04-19 05:31:38  MADRID     SEVILLA  2019-05-30 13:30:00   \n",
       "2579759  2019-04-19 05:31:38  MADRID     SEVILLA  2019-05-30 14:00:00   \n",
       "2579760  2019-04-19 05:31:38  MADRID     SEVILLA  2019-05-30 15:00:00   \n",
       "2579761  2019-04-19 05:31:38  MADRID     SEVILLA  2019-05-30 16:00:00   \n",
       "2579762  2019-04-19 05:31:38  MADRID     SEVILLA  2019-05-30 16:30:00   \n",
       "2579763  2019-04-19 05:31:38  MADRID     SEVILLA  2019-05-30 17:00:00   \n",
       "2579764  2019-04-19 05:31:38  MADRID     SEVILLA  2019-05-30 18:00:00   \n",
       "2579765  2019-04-19 05:31:38  MADRID     SEVILLA  2019-05-30 18:35:00   \n",
       "2579766  2019-04-19 05:31:38  MADRID     SEVILLA  2019-05-30 19:00:00   \n",
       "2579767  2019-04-19 05:31:38  MADRID     SEVILLA  2019-05-30 19:30:00   \n",
       "2579768  2019-04-19 05:31:38  MADRID     SEVILLA  2019-05-30 20:00:00   \n",
       "2579769  2019-04-19 05:31:38  MADRID     SEVILLA  2019-05-30 20:35:00   \n",
       "2579770  2019-04-19 05:31:38  MADRID     SEVILLA  2019-05-30 21:25:00   \n",
       "\n",
       "                    end_date train_type      price   train_class      fare  \n",
       "0        2019-05-29 09:16:00    AV City  38.550000       Turista     Promo  \n",
       "1        2019-05-29 09:32:00        AVE  53.400000       Turista     Promo  \n",
       "2        2019-05-29 09:51:00        AVE  47.300000       Turista     Promo  \n",
       "3        2019-05-29 10:32:00        AVE  69.400000    Preferente     Promo  \n",
       "4        2019-05-29 11:14:00      ALVIA  63.385503       Turista     Promo  \n",
       "5        2019-05-29 11:38:00        AVE  60.300000       Turista     Promo  \n",
       "6        2019-05-29 12:27:00  INTERCITY  62.200000       Turista  Flexible  \n",
       "7        2019-05-29 12:32:00        AVE  47.300000       Turista     Promo  \n",
       "8        2019-05-29 13:32:00        AVE  53.400000       Turista     Promo  \n",
       "9        2019-05-29 13:41:00      ALVIA  63.385503       Turista     Promo  \n",
       "10       2019-05-29 14:32:00        AVE  53.400000       Turista     Promo  \n",
       "11       2019-05-29 15:40:00        AVE  53.400000       Turista     Promo  \n",
       "12       2019-05-29 16:05:00      ALVIA  63.385503       Turista     Promo  \n",
       "13       2019-05-29 16:32:00        AVE  60.300000       Turista     Promo  \n",
       "14       2019-05-29 17:21:00        AVE  60.300000       Turista     Promo  \n",
       "15       2019-05-29 18:30:00        AVE  60.300000       Turista     Promo  \n",
       "16       2019-05-29 18:51:00        AVE  76.300000       Turista  Flexible  \n",
       "17       2019-05-29 19:38:00        AVE  76.300000       Turista  Flexible  \n",
       "18       2019-05-29 20:32:00        AVE  76.300000       Turista  Flexible  \n",
       "19       2019-05-29 21:08:00      ALVIA  67.200000       Turista  Flexible  \n",
       "20       2019-05-29 21:38:00        AVE  76.300000       Turista  Flexible  \n",
       "21       2019-05-29 22:05:00        AVE  60.300000       Turista     Promo  \n",
       "22       2019-05-29 23:15:00        AVE  53.400000       Turista     Promo  \n",
       "23       2019-05-30 00:10:00    AV City  43.550000       Turista     Promo  \n",
       "24       2019-04-23 09:16:00    AV City  43.550000       Turista     Promo  \n",
       "25       2019-04-23 09:32:00        AVE  76.300000       Turista  Flexible  \n",
       "26       2019-04-23 09:51:00        AVE  76.300000       Turista  Flexible  \n",
       "27       2019-04-23 10:32:00        AVE  76.300000       Turista  Flexible  \n",
       "28       2019-04-23 11:14:00      ALVIA  63.385503       Turista  Flexible  \n",
       "29       2019-04-23 11:38:00        AVE  76.300000       Turista  Flexible  \n",
       "...                      ...        ...        ...           ...       ...  \n",
       "2579741  2019-05-31 21:38:00        AVE  69.400000    Preferente     Promo  \n",
       "2579742  2019-05-31 22:05:00        AVE  60.300000       Turista     Promo  \n",
       "2579743  2019-05-31 22:21:00        AVE  60.300000       Turista     Promo  \n",
       "2579744  2019-05-31 23:15:00        AVE  53.400000       Turista     Promo  \n",
       "2579745  2019-06-01 00:10:00    AV City  49.150000       Turista     Promo  \n",
       "2579746  2019-05-30 09:16:00    AV City  49.150000       Turista     Promo  \n",
       "2579747  2019-05-30 09:32:00        AVE  69.400000    Preferente     Promo  \n",
       "2579748  2019-05-30 09:51:00        AVE  69.400000    Preferente     Promo  \n",
       "2579749  2019-05-30 10:32:00        AVE  69.400000    Preferente     Promo  \n",
       "2579750  2019-05-30 11:14:00      ALVIA  63.385503       Turista  Flexible  \n",
       "2579751  2019-05-30 11:38:00        AVE  76.300000       Turista  Flexible  \n",
       "2579752  2019-05-30 12:27:00  INTERCITY  62.200000       Turista  Flexible  \n",
       "2579753  2019-05-30 12:32:00        AVE  76.300000       Turista  Flexible  \n",
       "2579754  2019-05-30 13:32:00        AVE  76.300000       Turista  Flexible  \n",
       "2579755  2019-05-30 13:41:00      ALVIA  63.385503       Turista     Promo  \n",
       "2579756  2019-05-30 14:32:00        AVE  53.400000       Turista     Promo  \n",
       "2579757  2019-05-30 15:40:00        AVE  60.300000       Turista     Promo  \n",
       "2579758  2019-05-30 16:05:00      ALVIA  61.200000    Preferente     Promo  \n",
       "2579759  2019-05-30 16:32:00        AVE  60.300000       Turista     Promo  \n",
       "2579760  2019-05-30 17:21:00        AVE  76.300000       Turista  Flexible  \n",
       "2579761  2019-05-30 18:30:00        AVE  76.300000       Turista  Flexible  \n",
       "2579762  2019-05-30 18:51:00        AVE  76.300000       Turista  Flexible  \n",
       "2579763  2019-05-30 19:38:00        AVE  76.300000       Turista  Flexible  \n",
       "2579764  2019-05-30 20:32:00        AVE  60.300000       Turista     Promo  \n",
       "2579765  2019-05-30 21:08:00      ALVIA  67.200000       Turista  Flexible  \n",
       "2579766  2019-05-30 21:38:00        AVE  76.300000       Turista  Flexible  \n",
       "2579767  2019-05-30 22:05:00        AVE  76.300000       Turista  Flexible  \n",
       "2579768  2019-05-30 22:21:00        AVE  72.300000  Turista Plus     Promo  \n",
       "2579769  2019-05-30 23:15:00        AVE  76.300000       Turista  Flexible  \n",
       "2579770  2019-05-31 00:10:00    AV City  49.150000       Turista     Promo  \n",
       "\n",
       "[2579771 rows x 9 columns]"
      ]
     },
     "execution_count": 5,
     "metadata": {},
     "output_type": "execute_result"
    }
   ],
   "source": [
    "dt"
   ]
  },
  {
   "cell_type": "markdown",
   "metadata": {},
   "source": [
    "Con el comando shapre revisamos la cantidad de columnas y filas del set datos. En caso de que existiera valores nulos podemos usar el comando dropna."
   ]
  },
  {
   "cell_type": "code",
   "execution_count": 4,
   "metadata": {},
   "outputs": [
    {
     "data": {
      "text/html": [
       "<div>\n",
       "<style scoped>\n",
       "    .dataframe tbody tr th:only-of-type {\n",
       "        vertical-align: middle;\n",
       "    }\n",
       "\n",
       "    .dataframe tbody tr th {\n",
       "        vertical-align: top;\n",
       "    }\n",
       "\n",
       "    .dataframe thead th {\n",
       "        text-align: right;\n",
       "    }\n",
       "</style>\n",
       "<table border=\"1\" class=\"dataframe\">\n",
       "  <thead>\n",
       "    <tr style=\"text-align: right;\">\n",
       "      <th></th>\n",
       "      <th>price</th>\n",
       "    </tr>\n",
       "  </thead>\n",
       "  <tbody>\n",
       "    <tr>\n",
       "      <th>count</th>\n",
       "      <td>2.579771e+06</td>\n",
       "    </tr>\n",
       "    <tr>\n",
       "      <th>mean</th>\n",
       "      <td>6.338550e+01</td>\n",
       "    </tr>\n",
       "    <tr>\n",
       "      <th>std</th>\n",
       "      <td>2.418087e+01</td>\n",
       "    </tr>\n",
       "    <tr>\n",
       "      <th>min</th>\n",
       "      <td>1.545000e+01</td>\n",
       "    </tr>\n",
       "    <tr>\n",
       "      <th>25%</th>\n",
       "      <td>4.580000e+01</td>\n",
       "    </tr>\n",
       "    <tr>\n",
       "      <th>50%</th>\n",
       "      <td>6.338550e+01</td>\n",
       "    </tr>\n",
       "    <tr>\n",
       "      <th>75%</th>\n",
       "      <td>7.630000e+01</td>\n",
       "    </tr>\n",
       "    <tr>\n",
       "      <th>max</th>\n",
       "      <td>2.142000e+02</td>\n",
       "    </tr>\n",
       "  </tbody>\n",
       "</table>\n",
       "</div>"
      ],
      "text/plain": [
       "              price\n",
       "count  2.579771e+06\n",
       "mean   6.338550e+01\n",
       "std    2.418087e+01\n",
       "min    1.545000e+01\n",
       "25%    4.580000e+01\n",
       "50%    6.338550e+01\n",
       "75%    7.630000e+01\n",
       "max    2.142000e+02"
      ]
     },
     "execution_count": 4,
     "metadata": {},
     "output_type": "execute_result"
    }
   ],
   "source": [
    "dt.describe()"
   ]
  },
  {
   "cell_type": "code",
   "execution_count": 19,
   "metadata": {},
   "outputs": [
    {
     "data": {
      "text/plain": [
       "insert_date         0\n",
       "origin              0\n",
       "destination         0\n",
       "start_date          0\n",
       "end_date            0\n",
       "train_type          0\n",
       "price          310681\n",
       "train_class      9664\n",
       "fare             9664\n",
       "dtype: int64"
      ]
     },
     "execution_count": 19,
     "metadata": {},
     "output_type": "execute_result"
    }
   ],
   "source": [
    "dt.isnull().sum()"
   ]
  },
  {
   "cell_type": "markdown",
   "metadata": {},
   "source": [
    "Distintas formas de remplazar los valores NA, En este caso como solo price es una variable continua la podemos reemplazar. Queda la duda de que realizar ante variables categoricas perdidas. Una opción para las variables categoricas puede ser usar la moda como criterio, no obstante creemo que sesgaría los datos."
   ]
  },
  {
   "cell_type": "code",
   "execution_count": 3,
   "metadata": {},
   "outputs": [],
   "source": [
    "dt['price'].fillna(dt['price'].mean(),inplace = True) # Reemplaza los valores perdidos con la media\n",
    "#dt['price'].fillna(dt['price'].median(),inplace = True) #Reemplaza los valores perdidos con la mediana\n",
    "#\n",
    "\n",
    "\n"
   ]
  },
  {
   "cell_type": "markdown",
   "metadata": {},
   "source": [
    "No obstante dado que no tenemos un criterio para lidiar con los NA dentro de las variables categoricas "
   ]
  },
  {
   "cell_type": "code",
   "execution_count": 6,
   "metadata": {},
   "outputs": [],
   "source": [
    "dt = dt.dropna() # En este caso no aplica pero es importante tener la consideración de usar valor de tresh para limitar el críterio"
   ]
  },
  {
   "cell_type": "code",
   "execution_count": 7,
   "metadata": {},
   "outputs": [
    {
     "name": "stdout",
     "output_type": "stream",
     "text": [
      "<class 'pandas.core.frame.DataFrame'>\n",
      "Int64Index: 2570107 entries, 0 to 2579770\n",
      "Data columns (total 9 columns):\n",
      "insert_date    object\n",
      "origin         object\n",
      "destination    object\n",
      "start_date     object\n",
      "end_date       object\n",
      "train_type     object\n",
      "price          float64\n",
      "train_class    object\n",
      "fare           object\n",
      "dtypes: float64(1), object(8)\n",
      "memory usage: 196.1+ MB\n"
     ]
    }
   ],
   "source": [
    "dt.info()"
   ]
  },
  {
   "cell_type": "code",
   "execution_count": 8,
   "metadata": {},
   "outputs": [
    {
     "data": {
      "text/plain": [
       "(2570107, 9)"
      ]
     },
     "execution_count": 8,
     "metadata": {},
     "output_type": "execute_result"
    }
   ],
   "source": [
    "dt.shape"
   ]
  },
  {
   "cell_type": "markdown",
   "metadata": {},
   "source": [
    "Tomamos una muestra de las primeras líneas del set de datos para conocer el tipo de información que contiene."
   ]
  },
  {
   "cell_type": "code",
   "execution_count": 9,
   "metadata": {},
   "outputs": [
    {
     "data": {
      "text/html": [
       "<div>\n",
       "<style scoped>\n",
       "    .dataframe tbody tr th:only-of-type {\n",
       "        vertical-align: middle;\n",
       "    }\n",
       "\n",
       "    .dataframe tbody tr th {\n",
       "        vertical-align: top;\n",
       "    }\n",
       "\n",
       "    .dataframe thead th {\n",
       "        text-align: right;\n",
       "    }\n",
       "</style>\n",
       "<table border=\"1\" class=\"dataframe\">\n",
       "  <thead>\n",
       "    <tr style=\"text-align: right;\">\n",
       "      <th></th>\n",
       "      <th>insert_date</th>\n",
       "      <th>origin</th>\n",
       "      <th>destination</th>\n",
       "      <th>start_date</th>\n",
       "      <th>end_date</th>\n",
       "      <th>train_type</th>\n",
       "      <th>price</th>\n",
       "      <th>train_class</th>\n",
       "      <th>fare</th>\n",
       "    </tr>\n",
       "  </thead>\n",
       "  <tbody>\n",
       "    <tr>\n",
       "      <th>0</th>\n",
       "      <td>2019-04-19 05:31:43</td>\n",
       "      <td>MADRID</td>\n",
       "      <td>SEVILLA</td>\n",
       "      <td>2019-05-29 06:20:00</td>\n",
       "      <td>2019-05-29 09:16:00</td>\n",
       "      <td>AV City</td>\n",
       "      <td>38.550000</td>\n",
       "      <td>Turista</td>\n",
       "      <td>Promo</td>\n",
       "    </tr>\n",
       "    <tr>\n",
       "      <th>1</th>\n",
       "      <td>2019-04-19 05:31:43</td>\n",
       "      <td>MADRID</td>\n",
       "      <td>SEVILLA</td>\n",
       "      <td>2019-05-29 07:00:00</td>\n",
       "      <td>2019-05-29 09:32:00</td>\n",
       "      <td>AVE</td>\n",
       "      <td>53.400000</td>\n",
       "      <td>Turista</td>\n",
       "      <td>Promo</td>\n",
       "    </tr>\n",
       "    <tr>\n",
       "      <th>2</th>\n",
       "      <td>2019-04-19 05:31:43</td>\n",
       "      <td>MADRID</td>\n",
       "      <td>SEVILLA</td>\n",
       "      <td>2019-05-29 07:30:00</td>\n",
       "      <td>2019-05-29 09:51:00</td>\n",
       "      <td>AVE</td>\n",
       "      <td>47.300000</td>\n",
       "      <td>Turista</td>\n",
       "      <td>Promo</td>\n",
       "    </tr>\n",
       "    <tr>\n",
       "      <th>3</th>\n",
       "      <td>2019-04-19 05:31:43</td>\n",
       "      <td>MADRID</td>\n",
       "      <td>SEVILLA</td>\n",
       "      <td>2019-05-29 08:00:00</td>\n",
       "      <td>2019-05-29 10:32:00</td>\n",
       "      <td>AVE</td>\n",
       "      <td>69.400000</td>\n",
       "      <td>Preferente</td>\n",
       "      <td>Promo</td>\n",
       "    </tr>\n",
       "    <tr>\n",
       "      <th>4</th>\n",
       "      <td>2019-04-19 05:31:43</td>\n",
       "      <td>MADRID</td>\n",
       "      <td>SEVILLA</td>\n",
       "      <td>2019-05-29 08:30:00</td>\n",
       "      <td>2019-05-29 11:14:00</td>\n",
       "      <td>ALVIA</td>\n",
       "      <td>63.385503</td>\n",
       "      <td>Turista</td>\n",
       "      <td>Promo</td>\n",
       "    </tr>\n",
       "  </tbody>\n",
       "</table>\n",
       "</div>"
      ],
      "text/plain": [
       "           insert_date  origin destination           start_date  \\\n",
       "0  2019-04-19 05:31:43  MADRID     SEVILLA  2019-05-29 06:20:00   \n",
       "1  2019-04-19 05:31:43  MADRID     SEVILLA  2019-05-29 07:00:00   \n",
       "2  2019-04-19 05:31:43  MADRID     SEVILLA  2019-05-29 07:30:00   \n",
       "3  2019-04-19 05:31:43  MADRID     SEVILLA  2019-05-29 08:00:00   \n",
       "4  2019-04-19 05:31:43  MADRID     SEVILLA  2019-05-29 08:30:00   \n",
       "\n",
       "              end_date train_type      price train_class   fare  \n",
       "0  2019-05-29 09:16:00    AV City  38.550000     Turista  Promo  \n",
       "1  2019-05-29 09:32:00        AVE  53.400000     Turista  Promo  \n",
       "2  2019-05-29 09:51:00        AVE  47.300000     Turista  Promo  \n",
       "3  2019-05-29 10:32:00        AVE  69.400000  Preferente  Promo  \n",
       "4  2019-05-29 11:14:00      ALVIA  63.385503     Turista  Promo  "
      ]
     },
     "execution_count": 9,
     "metadata": {},
     "output_type": "execute_result"
    }
   ],
   "source": [
    "dt.head(5)"
   ]
  },
  {
   "cell_type": "code",
   "execution_count": 10,
   "metadata": {},
   "outputs": [
    {
     "data": {
      "text/html": [
       "<div>\n",
       "<style scoped>\n",
       "    .dataframe tbody tr th:only-of-type {\n",
       "        vertical-align: middle;\n",
       "    }\n",
       "\n",
       "    .dataframe tbody tr th {\n",
       "        vertical-align: top;\n",
       "    }\n",
       "\n",
       "    .dataframe thead th {\n",
       "        text-align: right;\n",
       "    }\n",
       "</style>\n",
       "<table border=\"1\" class=\"dataframe\">\n",
       "  <thead>\n",
       "    <tr style=\"text-align: right;\">\n",
       "      <th></th>\n",
       "      <th>price</th>\n",
       "    </tr>\n",
       "  </thead>\n",
       "  <tbody>\n",
       "    <tr>\n",
       "      <th>count</th>\n",
       "      <td>2.570107e+06</td>\n",
       "    </tr>\n",
       "    <tr>\n",
       "      <th>mean</th>\n",
       "      <td>6.338550e+01</td>\n",
       "    </tr>\n",
       "    <tr>\n",
       "      <th>std</th>\n",
       "      <td>2.422629e+01</td>\n",
       "    </tr>\n",
       "    <tr>\n",
       "      <th>min</th>\n",
       "      <td>1.545000e+01</td>\n",
       "    </tr>\n",
       "    <tr>\n",
       "      <th>25%</th>\n",
       "      <td>4.580000e+01</td>\n",
       "    </tr>\n",
       "    <tr>\n",
       "      <th>50%</th>\n",
       "      <td>6.338550e+01</td>\n",
       "    </tr>\n",
       "    <tr>\n",
       "      <th>75%</th>\n",
       "      <td>7.630000e+01</td>\n",
       "    </tr>\n",
       "    <tr>\n",
       "      <th>max</th>\n",
       "      <td>2.142000e+02</td>\n",
       "    </tr>\n",
       "  </tbody>\n",
       "</table>\n",
       "</div>"
      ],
      "text/plain": [
       "              price\n",
       "count  2.570107e+06\n",
       "mean   6.338550e+01\n",
       "std    2.422629e+01\n",
       "min    1.545000e+01\n",
       "25%    4.580000e+01\n",
       "50%    6.338550e+01\n",
       "75%    7.630000e+01\n",
       "max    2.142000e+02"
      ]
     },
     "execution_count": 10,
     "metadata": {},
     "output_type": "execute_result"
    }
   ],
   "source": [
    "dt.describe()"
   ]
  },
  {
   "cell_type": "markdown",
   "metadata": {},
   "source": [
    "Con count revisamos que todas las columnas tenga el mismo número de datos."
   ]
  },
  {
   "cell_type": "code",
   "execution_count": 12,
   "metadata": {},
   "outputs": [
    {
     "data": {
      "text/plain": [
       "insert_date    2570107\n",
       "origin         2570107\n",
       "destination    2570107\n",
       "start_date     2570107\n",
       "end_date       2570107\n",
       "train_type     2570107\n",
       "price          2570107\n",
       "train_class    2570107\n",
       "fare           2570107\n",
       "dtype: int64"
      ]
     },
     "execution_count": 12,
     "metadata": {},
     "output_type": "execute_result"
    }
   ],
   "source": [
    "dt.count()"
   ]
  },
  {
   "cell_type": "markdown",
   "metadata": {},
   "source": [
    "Usando el comando get_dummies para transformar los datos categoricos a numericos"
   ]
  },
  {
   "cell_type": "code",
   "execution_count": 13,
   "metadata": {},
   "outputs": [],
   "source": [
    "dt = pd.get_dummies(dt, columns=[\"origin\",\"destination\",\"train_type\",\"train_class\",\"fare\"])"
   ]
  },
  {
   "cell_type": "code",
   "execution_count": 14,
   "metadata": {},
   "outputs": [
    {
     "data": {
      "text/html": [
       "<div>\n",
       "<style scoped>\n",
       "    .dataframe tbody tr th:only-of-type {\n",
       "        vertical-align: middle;\n",
       "    }\n",
       "\n",
       "    .dataframe tbody tr th {\n",
       "        vertical-align: top;\n",
       "    }\n",
       "\n",
       "    .dataframe thead th {\n",
       "        text-align: right;\n",
       "    }\n",
       "</style>\n",
       "<table border=\"1\" class=\"dataframe\">\n",
       "  <thead>\n",
       "    <tr style=\"text-align: right;\">\n",
       "      <th></th>\n",
       "      <th>insert_date</th>\n",
       "      <th>start_date</th>\n",
       "      <th>end_date</th>\n",
       "      <th>price</th>\n",
       "      <th>origin_BARCELONA</th>\n",
       "      <th>origin_MADRID</th>\n",
       "      <th>origin_PONFERRADA</th>\n",
       "      <th>origin_SEVILLA</th>\n",
       "      <th>origin_VALENCIA</th>\n",
       "      <th>destination_BARCELONA</th>\n",
       "      <th>...</th>\n",
       "      <th>train_class_Turista</th>\n",
       "      <th>train_class_Turista Plus</th>\n",
       "      <th>train_class_Turista con enlace</th>\n",
       "      <th>fare_Adulto ida</th>\n",
       "      <th>fare_Flexible</th>\n",
       "      <th>fare_Grupos Ida</th>\n",
       "      <th>fare_Individual-Flexible</th>\n",
       "      <th>fare_Mesa</th>\n",
       "      <th>fare_Promo</th>\n",
       "      <th>fare_Promo +</th>\n",
       "    </tr>\n",
       "  </thead>\n",
       "  <tbody>\n",
       "    <tr>\n",
       "      <th>0</th>\n",
       "      <td>2019-04-19 05:31:43</td>\n",
       "      <td>2019-05-29 06:20:00</td>\n",
       "      <td>2019-05-29 09:16:00</td>\n",
       "      <td>38.550000</td>\n",
       "      <td>0</td>\n",
       "      <td>1</td>\n",
       "      <td>0</td>\n",
       "      <td>0</td>\n",
       "      <td>0</td>\n",
       "      <td>0</td>\n",
       "      <td>...</td>\n",
       "      <td>1</td>\n",
       "      <td>0</td>\n",
       "      <td>0</td>\n",
       "      <td>0</td>\n",
       "      <td>0</td>\n",
       "      <td>0</td>\n",
       "      <td>0</td>\n",
       "      <td>0</td>\n",
       "      <td>1</td>\n",
       "      <td>0</td>\n",
       "    </tr>\n",
       "    <tr>\n",
       "      <th>1</th>\n",
       "      <td>2019-04-19 05:31:43</td>\n",
       "      <td>2019-05-29 07:00:00</td>\n",
       "      <td>2019-05-29 09:32:00</td>\n",
       "      <td>53.400000</td>\n",
       "      <td>0</td>\n",
       "      <td>1</td>\n",
       "      <td>0</td>\n",
       "      <td>0</td>\n",
       "      <td>0</td>\n",
       "      <td>0</td>\n",
       "      <td>...</td>\n",
       "      <td>1</td>\n",
       "      <td>0</td>\n",
       "      <td>0</td>\n",
       "      <td>0</td>\n",
       "      <td>0</td>\n",
       "      <td>0</td>\n",
       "      <td>0</td>\n",
       "      <td>0</td>\n",
       "      <td>1</td>\n",
       "      <td>0</td>\n",
       "    </tr>\n",
       "    <tr>\n",
       "      <th>2</th>\n",
       "      <td>2019-04-19 05:31:43</td>\n",
       "      <td>2019-05-29 07:30:00</td>\n",
       "      <td>2019-05-29 09:51:00</td>\n",
       "      <td>47.300000</td>\n",
       "      <td>0</td>\n",
       "      <td>1</td>\n",
       "      <td>0</td>\n",
       "      <td>0</td>\n",
       "      <td>0</td>\n",
       "      <td>0</td>\n",
       "      <td>...</td>\n",
       "      <td>1</td>\n",
       "      <td>0</td>\n",
       "      <td>0</td>\n",
       "      <td>0</td>\n",
       "      <td>0</td>\n",
       "      <td>0</td>\n",
       "      <td>0</td>\n",
       "      <td>0</td>\n",
       "      <td>1</td>\n",
       "      <td>0</td>\n",
       "    </tr>\n",
       "    <tr>\n",
       "      <th>3</th>\n",
       "      <td>2019-04-19 05:31:43</td>\n",
       "      <td>2019-05-29 08:00:00</td>\n",
       "      <td>2019-05-29 10:32:00</td>\n",
       "      <td>69.400000</td>\n",
       "      <td>0</td>\n",
       "      <td>1</td>\n",
       "      <td>0</td>\n",
       "      <td>0</td>\n",
       "      <td>0</td>\n",
       "      <td>0</td>\n",
       "      <td>...</td>\n",
       "      <td>0</td>\n",
       "      <td>0</td>\n",
       "      <td>0</td>\n",
       "      <td>0</td>\n",
       "      <td>0</td>\n",
       "      <td>0</td>\n",
       "      <td>0</td>\n",
       "      <td>0</td>\n",
       "      <td>1</td>\n",
       "      <td>0</td>\n",
       "    </tr>\n",
       "    <tr>\n",
       "      <th>4</th>\n",
       "      <td>2019-04-19 05:31:43</td>\n",
       "      <td>2019-05-29 08:30:00</td>\n",
       "      <td>2019-05-29 11:14:00</td>\n",
       "      <td>63.385503</td>\n",
       "      <td>0</td>\n",
       "      <td>1</td>\n",
       "      <td>0</td>\n",
       "      <td>0</td>\n",
       "      <td>0</td>\n",
       "      <td>0</td>\n",
       "      <td>...</td>\n",
       "      <td>1</td>\n",
       "      <td>0</td>\n",
       "      <td>0</td>\n",
       "      <td>0</td>\n",
       "      <td>0</td>\n",
       "      <td>0</td>\n",
       "      <td>0</td>\n",
       "      <td>0</td>\n",
       "      <td>1</td>\n",
       "      <td>0</td>\n",
       "    </tr>\n",
       "  </tbody>\n",
       "</table>\n",
       "<p>5 rows × 43 columns</p>\n",
       "</div>"
      ],
      "text/plain": [
       "           insert_date           start_date             end_date      price  \\\n",
       "0  2019-04-19 05:31:43  2019-05-29 06:20:00  2019-05-29 09:16:00  38.550000   \n",
       "1  2019-04-19 05:31:43  2019-05-29 07:00:00  2019-05-29 09:32:00  53.400000   \n",
       "2  2019-04-19 05:31:43  2019-05-29 07:30:00  2019-05-29 09:51:00  47.300000   \n",
       "3  2019-04-19 05:31:43  2019-05-29 08:00:00  2019-05-29 10:32:00  69.400000   \n",
       "4  2019-04-19 05:31:43  2019-05-29 08:30:00  2019-05-29 11:14:00  63.385503   \n",
       "\n",
       "   origin_BARCELONA  origin_MADRID  origin_PONFERRADA  origin_SEVILLA  \\\n",
       "0                 0              1                  0               0   \n",
       "1                 0              1                  0               0   \n",
       "2                 0              1                  0               0   \n",
       "3                 0              1                  0               0   \n",
       "4                 0              1                  0               0   \n",
       "\n",
       "   origin_VALENCIA  destination_BARCELONA  ...  train_class_Turista  \\\n",
       "0                0                      0  ...                    1   \n",
       "1                0                      0  ...                    1   \n",
       "2                0                      0  ...                    1   \n",
       "3                0                      0  ...                    0   \n",
       "4                0                      0  ...                    1   \n",
       "\n",
       "   train_class_Turista Plus  train_class_Turista con enlace  fare_Adulto ida  \\\n",
       "0                         0                               0                0   \n",
       "1                         0                               0                0   \n",
       "2                         0                               0                0   \n",
       "3                         0                               0                0   \n",
       "4                         0                               0                0   \n",
       "\n",
       "   fare_Flexible  fare_Grupos Ida  fare_Individual-Flexible  fare_Mesa  \\\n",
       "0              0                0                         0          0   \n",
       "1              0                0                         0          0   \n",
       "2              0                0                         0          0   \n",
       "3              0                0                         0          0   \n",
       "4              0                0                         0          0   \n",
       "\n",
       "   fare_Promo  fare_Promo +  \n",
       "0           1             0  \n",
       "1           1             0  \n",
       "2           1             0  \n",
       "3           1             0  \n",
       "4           1             0  \n",
       "\n",
       "[5 rows x 43 columns]"
      ]
     },
     "execution_count": 14,
     "metadata": {},
     "output_type": "execute_result"
    }
   ],
   "source": [
    "dt.head()"
   ]
  },
  {
   "cell_type": "markdown",
   "metadata": {},
   "source": [
    "Al reaizar esto aumentamos la cantidad de variables, pero los modelos de aprendizaje no trabajan bien con valores categóricos por lo que es recomenda convertirlo a número"
   ]
  },
  {
   "cell_type": "code",
   "execution_count": 15,
   "metadata": {},
   "outputs": [
    {
     "data": {
      "text/plain": [
       "(2570107, 43)"
      ]
     },
     "execution_count": 15,
     "metadata": {},
     "output_type": "execute_result"
    }
   ],
   "source": [
    "dt.shape"
   ]
  },
  {
   "cell_type": "markdown",
   "metadata": {},
   "source": [
    "Algunos otros tips que pueden ser utiles. Antes de reorganizar las variables categoricas "
   ]
  },
  {
   "cell_type": "code",
   "execution_count": 16,
   "metadata": {},
   "outputs": [],
   "source": [
    "dt = pd.read_csv('renfe.csv', index_col = 0)"
   ]
  },
  {
   "cell_type": "code",
   "execution_count": 17,
   "metadata": {},
   "outputs": [
    {
     "data": {
      "text/html": [
       "<div>\n",
       "<style scoped>\n",
       "    .dataframe tbody tr th:only-of-type {\n",
       "        vertical-align: middle;\n",
       "    }\n",
       "\n",
       "    .dataframe tbody tr th {\n",
       "        vertical-align: top;\n",
       "    }\n",
       "\n",
       "    .dataframe thead th {\n",
       "        text-align: right;\n",
       "    }\n",
       "</style>\n",
       "<table border=\"1\" class=\"dataframe\">\n",
       "  <thead>\n",
       "    <tr style=\"text-align: right;\">\n",
       "      <th></th>\n",
       "      <th>insert_date</th>\n",
       "      <th>origin</th>\n",
       "      <th>destination</th>\n",
       "      <th>start_date</th>\n",
       "      <th>end_date</th>\n",
       "      <th>train_type</th>\n",
       "      <th>price</th>\n",
       "      <th>train_class</th>\n",
       "      <th>fare</th>\n",
       "    </tr>\n",
       "  </thead>\n",
       "  <tbody>\n",
       "    <tr>\n",
       "      <th>0</th>\n",
       "      <td>2019-04-19 05:31:43</td>\n",
       "      <td>MADRID</td>\n",
       "      <td>SEVILLA</td>\n",
       "      <td>2019-05-29 06:20:00</td>\n",
       "      <td>2019-05-29 09:16:00</td>\n",
       "      <td>AV City</td>\n",
       "      <td>38.55</td>\n",
       "      <td>Turista</td>\n",
       "      <td>Promo</td>\n",
       "    </tr>\n",
       "    <tr>\n",
       "      <th>1</th>\n",
       "      <td>2019-04-19 05:31:43</td>\n",
       "      <td>MADRID</td>\n",
       "      <td>SEVILLA</td>\n",
       "      <td>2019-05-29 07:00:00</td>\n",
       "      <td>2019-05-29 09:32:00</td>\n",
       "      <td>AVE</td>\n",
       "      <td>53.40</td>\n",
       "      <td>Turista</td>\n",
       "      <td>Promo</td>\n",
       "    </tr>\n",
       "    <tr>\n",
       "      <th>2</th>\n",
       "      <td>2019-04-19 05:31:43</td>\n",
       "      <td>MADRID</td>\n",
       "      <td>SEVILLA</td>\n",
       "      <td>2019-05-29 07:30:00</td>\n",
       "      <td>2019-05-29 09:51:00</td>\n",
       "      <td>AVE</td>\n",
       "      <td>47.30</td>\n",
       "      <td>Turista</td>\n",
       "      <td>Promo</td>\n",
       "    </tr>\n",
       "    <tr>\n",
       "      <th>3</th>\n",
       "      <td>2019-04-19 05:31:43</td>\n",
       "      <td>MADRID</td>\n",
       "      <td>SEVILLA</td>\n",
       "      <td>2019-05-29 08:00:00</td>\n",
       "      <td>2019-05-29 10:32:00</td>\n",
       "      <td>AVE</td>\n",
       "      <td>69.40</td>\n",
       "      <td>Preferente</td>\n",
       "      <td>Promo</td>\n",
       "    </tr>\n",
       "    <tr>\n",
       "      <th>4</th>\n",
       "      <td>2019-04-19 05:31:43</td>\n",
       "      <td>MADRID</td>\n",
       "      <td>SEVILLA</td>\n",
       "      <td>2019-05-29 08:30:00</td>\n",
       "      <td>2019-05-29 11:14:00</td>\n",
       "      <td>ALVIA</td>\n",
       "      <td>NaN</td>\n",
       "      <td>Turista</td>\n",
       "      <td>Promo</td>\n",
       "    </tr>\n",
       "  </tbody>\n",
       "</table>\n",
       "</div>"
      ],
      "text/plain": [
       "           insert_date  origin destination           start_date  \\\n",
       "0  2019-04-19 05:31:43  MADRID     SEVILLA  2019-05-29 06:20:00   \n",
       "1  2019-04-19 05:31:43  MADRID     SEVILLA  2019-05-29 07:00:00   \n",
       "2  2019-04-19 05:31:43  MADRID     SEVILLA  2019-05-29 07:30:00   \n",
       "3  2019-04-19 05:31:43  MADRID     SEVILLA  2019-05-29 08:00:00   \n",
       "4  2019-04-19 05:31:43  MADRID     SEVILLA  2019-05-29 08:30:00   \n",
       "\n",
       "              end_date train_type  price train_class   fare  \n",
       "0  2019-05-29 09:16:00    AV City  38.55     Turista  Promo  \n",
       "1  2019-05-29 09:32:00        AVE  53.40     Turista  Promo  \n",
       "2  2019-05-29 09:51:00        AVE  47.30     Turista  Promo  \n",
       "3  2019-05-29 10:32:00        AVE  69.40  Preferente  Promo  \n",
       "4  2019-05-29 11:14:00      ALVIA    NaN     Turista  Promo  "
      ]
     },
     "execution_count": 17,
     "metadata": {},
     "output_type": "execute_result"
    }
   ],
   "source": [
    "dt.head(5)"
   ]
  },
  {
   "cell_type": "raw",
   "metadata": {},
   "source": [
    "La función group by me permite ordenar los datos por algun grupo y por tanto obtener una visión por grupo"
   ]
  },
  {
   "cell_type": "code",
   "execution_count": 19,
   "metadata": {},
   "outputs": [
    {
     "data": {
      "text/plain": [
       "origin      destination\n",
       "BARCELONA   MADRID         405621\n",
       "MADRID      BARCELONA      480074\n",
       "            SEVILLA        413155\n",
       "            VALENCIA       399679\n",
       "            PONFERRADA      66515\n",
       "PONFERRADA  MADRID          93196\n",
       "SEVILLA     MADRID         398445\n",
       "VALENCIA    MADRID         323086\n",
       "Name: destination, dtype: int64"
      ]
     },
     "execution_count": 19,
     "metadata": {},
     "output_type": "execute_result"
    }
   ],
   "source": [
    "dt.groupby('origin')['destination'].value_counts() # Aqui obtenemos la cantidad de casos por grupo"
   ]
  },
  {
   "cell_type": "code",
   "execution_count": 23,
   "metadata": {},
   "outputs": [
    {
     "data": {
      "text/plain": [
       "origin      destination\n",
       "BARCELONA   MADRID         84.671718\n",
       "MADRID      BARCELONA      85.681242\n",
       "            PONFERRADA     45.261351\n",
       "            SEVILLA        62.880378\n",
       "            VALENCIA       42.005000\n",
       "PONFERRADA  MADRID         42.004859\n",
       "SEVILLA     MADRID         62.470221\n",
       "VALENCIA    MADRID         39.852544\n",
       "Name: price, dtype: float64"
      ]
     },
     "execution_count": 23,
     "metadata": {},
     "output_type": "execute_result"
    }
   ],
   "source": [
    "dt.groupby(['origin','destination'])['price'].mean()"
   ]
  },
  {
   "cell_type": "code",
   "execution_count": null,
   "metadata": {},
   "outputs": [],
   "source": []
  }
 ],
 "metadata": {
  "kernelspec": {
   "display_name": "Python 3",
   "language": "python",
   "name": "python3"
  },
  "language_info": {
   "codemirror_mode": {
    "name": "ipython",
    "version": 3
   },
   "file_extension": ".py",
   "mimetype": "text/x-python",
   "name": "python",
   "nbconvert_exporter": "python",
   "pygments_lexer": "ipython3",
   "version": "3.7.3"
  }
 },
 "nbformat": 4,
 "nbformat_minor": 2
}
