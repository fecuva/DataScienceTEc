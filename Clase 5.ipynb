{
 "cells": [
  {
   "cell_type": "markdown",
   "metadata": {},
   "source": [
    "# Clase 5\n",
    "\n",
    "Redes recurrentes es lo que se usa para trabajar series de tiempo\n",
    "\n",
    "Rosenblatt\n",
    "\n",
    "la funcion de activacion lo que realiza es agregar no linealidad a las multiples regresiones lineales que entran \n",
    "\n",
    "\n",
    "Mejor generalizacion que los otros modelos, \n",
    "\n",
    "Los pesos se actualizacion se hacen debido al proceso de optimizacion, gradiente descendiente. Se van encontrando minimos locales\n",
    "\n",
    "\n",
    "Softmax multiples categorias en probablilidad de cada factor \n",
    "\n",
    "Dropout empezar con 0.5\n",
    "\n",
    "playground.tensorflow.org"
   ]
  },
  {
   "cell_type": "code",
   "execution_count": 2,
   "metadata": {},
   "outputs": [],
   "source": [
    "import pandas as pd\n",
    "import numpy as np"
   ]
  },
  {
   "cell_type": "code",
   "execution_count": null,
   "metadata": {},
   "outputs": [],
   "source": []
  },
  {
   "cell_type": "code",
   "execution_count": null,
   "metadata": {},
   "outputs": [],
   "source": []
  },
  {
   "cell_type": "code",
   "execution_count": null,
   "metadata": {},
   "outputs": [],
   "source": []
  }
 ],
 "metadata": {
  "kernelspec": {
   "display_name": "Python 3",
   "language": "python",
   "name": "python3"
  },
  "language_info": {
   "codemirror_mode": {
    "name": "ipython",
    "version": 3
   },
   "file_extension": ".py",
   "mimetype": "text/x-python",
   "name": "python",
   "nbconvert_exporter": "python",
   "pygments_lexer": "ipython3",
   "version": "3.7.3"
  }
 },
 "nbformat": 4,
 "nbformat_minor": 2
}
