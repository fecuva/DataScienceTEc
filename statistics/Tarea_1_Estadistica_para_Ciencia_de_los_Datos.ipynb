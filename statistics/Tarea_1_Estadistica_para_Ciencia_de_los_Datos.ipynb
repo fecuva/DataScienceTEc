{
 "cells": [
  {
   "cell_type": "markdown",
   "metadata": {
    "colab_type": "text",
    "id": "jdtaAwa8XzNA"
   },
   "source": [
    "# Estadística para Ciencia de los Datos\n",
    "# Tarea #1 - Semana #1\n",
    "\n"
   ]
  },
  {
   "cell_type": "markdown",
   "metadata": {
    "colab_type": "text",
    "id": "5e6Nc6WZTTmc"
   },
   "source": [
    "## Instrucciones\n",
    "Realice los siguientes ejercicios y envíe sus respuestas, en un archivo PDF, a través de TEC Digital a más tardar el domingo 22 de septiembre a las 10 PM. No se aceptarán entregas tardías.\n",
    "\n",
    "Desarrolle todos los ejercicios con el mayor nivel de detalle posible. Se espera que el desarrollo algebraico sea formal. No será válido únicamente dar respuestas en prosa a las preguntas.\n",
    "\n",
    "\n",
    "1.   Una agencia de bienes raíces tiene una base de datos de propiedades vendidas en la cuál rastrearon la cantidad de días que duró en concretarse la venta, además de su precio de venta (ver tabla). Basado en los datos responda los siguientes apartados. Responda todos los puntos utilizando ecuaciones únicamente.\n",
    "\n",
    " * Si $A$ es el evento de vender una casa en más de 90 días, estime la probabilidad de $A$ (5 puntos)\n",
    " * Si $B$ es el evento de vender una casa en menos de 50,000, estime la probablidad de $B$ (5 puntos)\n",
    " * ¿Cuál es la probabilidad de que $A$ y $B$ ocurran juntos? (5 puntos)\n",
    " * Si una casa se define que tiene un precio de menos de \\$50,000, ¿cuál es la probabilidad que tarde 90 o menos días en venderse? (5 puntos)\n",
    " * ¿Se puede considerar que los eventos $A$ y $B$ son independientes? (Demuestrelo matemáticamente) (10 puntos)\n",
    "  \n",
    "|| Menos de 30 días | De 31 a 90 | Más de 90 | Total\n",
    "|--- | --- | --- | --- |---\n",
    "|**Menos de \\$50,000**|50|40|10|100\n",
    "|**50,000 a 99,999**|20|150|80|250\n",
    "|**100,000 a 149,999**|20|280|100|400\n",
    "|**Más de 150,000**|10|10|30|50\n",
    "|**Total**|100|480|220|800\n",
    "\n",
    "\n",
    "\n",
    "2. Hay tres aulas: en la N° 1 hay 8 mujeres y 4 hombres, en la N°2 hay 10 mujeres y 20 hombres, y en la N°3 hay 6 mujeres y 10 hombres. Se escoge un aula al azar y luego de ella se extrae al azar una persona. Si se sabe que la persona extraída es mujer, pero no se sabe de cuál aula proviene, ¿Cuál es la probabilidad de que ese persona provenga del aula N°3?\n",
    "\n",
    "\n",
    "3. Se lanzan dos dados. Sean: $A$= *suma de puntos impar*, $B$= *1 en el primer dado*, $C$= *suma de punto es igual a 7*. ¿Son $A$ y $B$ independientes?, ¿Son $A$ y $C$ independientes? , ¿Son $B$ y $C$ independientes?\n",
    "\n",
    "\n",
    "\n",
    "4. La distribución de probabilidad de una variable aleatoria $Y$ está dada por la siguiente tabla. Suponga que se realizó un experimento donde se obtuvieron 4 millones de valores observados de $Y$. Con base en estos valores y las distribución de probabilidad de $Y$ encuentre su valor esperado.\n",
    "\n",
    "\n",
    "| y | p(y) \n",
    "|--- | --- \n",
    "|0|1/8\n",
    "|1|1/4\n",
    "|2|3/8\n",
    "|3|1/4\n",
    "\n",
    "\n",
    "\n"
   ]
  },
  {
   "cell_type": "markdown",
   "metadata": {},
   "source": []
  }
 ],
 "metadata": {
  "colab": {
   "collapsed_sections": [],
   "name": "Tarea_1_Estadistica_para_Ciencia_de_los_Datos.ipynb",
   "provenance": [],
   "version": "0.3.2"
  },
  "kernelspec": {
   "display_name": "Python 3",
   "language": "python",
   "name": "python3"
  },
  "language_info": {
   "codemirror_mode": {
    "name": "ipython",
    "version": 3
   },
   "file_extension": ".py",
   "mimetype": "text/x-python",
   "name": "python",
   "nbconvert_exporter": "python",
   "pygments_lexer": "ipython3",
   "version": "3.7.3"
  }
 },
 "nbformat": 4,
 "nbformat_minor": 1
}
