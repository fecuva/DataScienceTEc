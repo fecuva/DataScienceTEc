{
 "cells": [
  {
   "cell_type": "markdown",
   "metadata": {},
   "source": [
    "# Tarea 1\n",
    "\n",
    "Felipe Cubero Vargas"
   ]
  },
  {
   "cell_type": "code",
   "execution_count": null,
   "metadata": {},
   "outputs": [],
   "source": [
    "import pandas as pd"
   ]
  },
  {
   "cell_type": "markdown",
   "metadata": {},
   "source": [
    "1.   Una agencia de bienes raíces tiene una base de datos de propiedades vendidas en la cuál rastrearon la cantidad de días que duró en concretarse la venta, además de su precio de venta (ver tabla). Basado en los datos responda los siguientes apartados. Responda todos los puntos utilizando ecuaciones únicamente.\n",
    "\n",
    " * Si $A$ es el evento de vender una casa en más de 90 días, estime la probabilidad de $A$ (5 puntos)\n",
    " * Si $B$ es el evento de vender una casa en menos de 50,000, estime la probablidad de $B$ (5 puntos)\n",
    " * ¿Cuál es la probabilidad de que $A$ y $B$ ocurran juntos? (5 puntos)\n",
    " * Si una casa se define que tiene un precio de menos de \\$50,000, ¿cuál es la probabilidad que tarde 90 o menos días en venderse? (5 puntos)\n",
    " * ¿Se puede considerar que los eventos $A$ y $B$ son independientes? (Demuestrelo matemáticamente) (10 puntos)\n",
    "  \n",
    "|| Menos de 30 días | De 31 a 90 | Más de 90 | Total\n",
    "|--- | --- | --- | --- |---\n",
    "|**Menos de \\$50,000**|50|40|10|100\n",
    "|**50,000 a 99,999**|20|150|80|250\n",
    "|**100,000 a 149,999**|20|280|100|400\n",
    "|**Más de 150,000**|10|10|30|50\n",
    "|**Total**|100|480|220|800"
   ]
  },
  {
   "cell_type": "code",
   "execution_count": 2,
   "metadata": {},
   "outputs": [],
   "source": [
    "# La probabilidad de vender más una casa en más de 90 días es de:\n",
    "Totalcasas90 = 220\n",
    "totalcasas = 800\n",
    "\n",
    "print(\"La probabilidad de vender una casa en más de 90 días es: {}\".format())"
   ]
  },
  {
   "cell_type": "code",
   "execution_count": null,
   "metadata": {},
   "outputs": [],
   "source": []
  }
 ],
 "metadata": {
  "kernelspec": {
   "display_name": "Python 3",
   "language": "python",
   "name": "python3"
  },
  "language_info": {
   "codemirror_mode": {
    "name": "ipython",
    "version": 3
   },
   "file_extension": ".py",
   "mimetype": "text/x-python",
   "name": "python",
   "nbconvert_exporter": "python",
   "pygments_lexer": "ipython3",
   "version": "3.7.3"
  }
 },
 "nbformat": 4,
 "nbformat_minor": 2
}
