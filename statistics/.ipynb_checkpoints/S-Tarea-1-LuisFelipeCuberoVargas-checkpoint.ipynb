{
 "cells": [
  {
   "cell_type": "markdown",
   "metadata": {},
   "source": [
    "# Tarea 1\n",
    "\n",
    "Felipe Cubero Vargas\n",
    "\n",
    "\n"
   ]
  },
  {
   "cell_type": "code",
   "execution_count": 52,
   "metadata": {},
   "outputs": [],
   "source": [
    "from fractions import Fraction"
   ]
  },
  {
   "cell_type": "markdown",
   "metadata": {},
   "source": [
    "1.   Una agencia de bienes raíces tiene una base de datos de propiedades vendidas en la cuál rastrearon la cantidad de días que duró en concretarse la venta, además de su precio de venta (ver tabla). Basado en los datos responda los siguientes apartados. Responda todos los puntos utilizando ecuaciones únicamente.\n",
    "\n",
    " * Si $A$ es el evento de vender una casa en más de 90 días, estime la probabilidad de $A$ (5 puntos)\n",
    " * Si $B$ es el evento de vender una casa en menos de 50,000, estime la probablidad de $B$ (5 puntos)\n",
    " * ¿Cuál es la probabilidad de que $A$ y $B$ ocurran juntos? (5 puntos)\n",
    " * Si una casa se define que tiene un precio de menos de \\$50,000, ¿cuál es la probabilidad que tarde 90 o menos días en venderse? (5 puntos)\n",
    " * ¿Se puede considerar que los eventos $A$ y $B$ son independientes? (Demuestrelo matemáticamente) (10 puntos)\n",
    "  \n",
    "|| Menos de 30 días | De 31 a 90 | Más de 90 | Total\n",
    "|--- | --- | --- | --- |---\n",
    "|**Menos de \\$50,000**|50|40|10|100\n",
    "|**50,000 a 99,999**|20|150|80|250\n",
    "|**100,000 a 149,999**|20|280|100|400\n",
    "|**Más de 150,000**|10|10|30|50\n",
    "|**Total**|100|480|220|800"
   ]
  },
  {
   "cell_type": "code",
   "execution_count": 53,
   "metadata": {},
   "outputs": [
    {
     "name": "stdout",
     "output_type": "stream",
     "text": [
      "La probabilidad de vender una casa en más de 90 días es: 11/40\n"
     ]
    }
   ],
   "source": [
    "\n",
    "# La probabilidad de vender más una casa en más de 90 días es de:\n",
    "totalcasos90 = 220\n",
    "totalcasos = 800\n",
    "ProbabilidadA = totalcasos90/totalcasos\n",
    "print(\"La probabilidad de vender una casa en más de 90 días es: {}\".\n",
    "      format(Fraction(ProbabilidadA).limit_denominator()))\n"
   ]
  },
  {
   "cell_type": "code",
   "execution_count": 54,
   "metadata": {},
   "outputs": [
    {
     "name": "stdout",
     "output_type": "stream",
     "text": [
      "La probabilidad de vender una casa en menos de 50,000: 1/8\n"
     ]
    }
   ],
   "source": [
    "casosdeb = 100\n",
    "totalcasos = 800\n",
    "probabilidadB = casosdeb/totalcasos\n",
    "print(\"La probabilidad de vender una casa en menos de 50,000: {}\".\n",
    "      format(Fraction(probabilidadB).limit_denominator()))"
   ]
  },
  {
   "cell_type": "code",
   "execution_count": 55,
   "metadata": {},
   "outputs": [
    {
     "name": "stdout",
     "output_type": "stream",
     "text": [
      "La probabilidad de A y B ocurran en conjunto está dado por la probabilidad de A por la probabilidad de B.\n",
      " Por tanto la probabilidad es de 1/80\n"
     ]
    }
   ],
   "source": [
    "#La probabilidad conjunta está dado por P(A ∩ B) = P(Casos de A Y B)/Total de casos\n",
    "\n",
    "probabilidadconjuntaAB = (10)/(800)\n",
    "print(\"La probabilidad de A y B ocurran en conjunto está dado por la probabilidad de A por la probabilidad de B.\\n \\\n",
    "Por tanto la probabilidad es de {}\".format(Fraction(probabilidadconjuntaAB).limit_denominator()))"
   ]
  },
  {
   "cell_type": "code",
   "execution_count": 56,
   "metadata": {},
   "outputs": [
    {
     "name": "stdout",
     "output_type": "stream",
     "text": [
      "La probabilidad de que tarde 90 o menos días en venderse es 9/10\n"
     ]
    }
   ],
   "source": [
    "casosdemenosde90 = 50+40\n",
    "totalcasosde50 = 100\n",
    "probabilidad = casosdemenosde90/totalcasosde50\n",
    "print(\"La probabilidad de que tarde 90 o menos días en venderse es {}\".format(Fraction(probabilidad).limit_denominator()))"
   ]
  },
  {
   "cell_type": "code",
   "execution_count": 57,
   "metadata": {},
   "outputs": [
    {
     "name": "stdout",
     "output_type": "stream",
     "text": [
      "Dado que la p(B) = 1/8 y la 𝑝(B|A) = 1/8 y al ser iguales podemos decir que son independientes\n"
     ]
    }
   ],
   "source": [
    "#Dos eventos son independientes si 𝑝(𝑋,𝑌)=𝑝(𝑋)𝑝(𝑌). y además 𝑝(𝑌)=𝑝(𝑌|𝑋)\n",
    "pINTAB = (11/40)*(1/8) # 𝑝(A,B)=𝑝(A)𝑝(B) \n",
    "\n",
    "#Por tanto 𝑝(𝑌)=𝑝(𝑌|𝑋) entonces p(Y) = p(X,Y)/p(X)\n",
    "\n",
    "pBA = pINTAB/ProbabilidadA  #pBA = p(B|A) = p(A,B)/p(A)\n",
    "\n",
    "print(\"Dado que la p(B) = {} y la 𝑝(B|A) = {} y al ser iguales podemos decir que son independientes\".format(Fraction(probabilidadB),Fraction(pBA)))\n"
   ]
  },
  {
   "cell_type": "markdown",
   "metadata": {},
   "source": [
    "2. Hay tres aulas: en la N° 1 hay 8 mujeres y 4 hombres, en la N°2 hay 10 mujeres y 20 hombres, y en la N°3 hay 6 mujeres y 10 hombres. Se escoge un aula al azar y luego de ella se extrae al azar una persona. Si se sabe que la persona extraída es mujer, pero no se sabe de cuál aula proviene, ¿Cuál es la probabilidad de que ese persona provenga del aula N°3?"
   ]
  },
  {
   "cell_type": "code",
   "execution_count": 58,
   "metadata": {},
   "outputs": [
    {
     "name": "stdout",
     "output_type": "stream",
     "text": [
      "La probabilidad de sacar una mujer y fuera del aula 3 es: 9/29\n"
     ]
    }
   ],
   "source": [
    "#Esto es un caso de probabilidad condicional, En dónde la primera condición es la probabilidad de escoger el aula 3 y luego la probabilidad de que sea una mujer\n",
    "probabilidadaulatres = 1/3 #dado que el caso favorable es uno y el total de condiciones es 3\n",
    "probabilidaddesermujerA3 = 6/(8+4+10+20+6+10) # dado que el caso favorable es de 6 y la totalidad de condiciones es 10\n",
    "\n",
    "probabilidad = probabilidaddesermujerA3/probabilidadaulatres # P(A|B) = P(A ∩ B)/P(A) \n",
    "\n",
    "print(\"La probabilidad de sacar una mujer y fuera del aula 3 es: {}\".format(Fraction(probabilidad).limit_denominator()))\n",
    "\n"
   ]
  },
  {
   "cell_type": "markdown",
   "metadata": {},
   "source": [
    "3. Se lanzan dos dados. Sean: $A$= *suma de puntos impar*, $B$= *1 en el primer dado*, $C$= *suma de punto es igual a 7*. ¿Son $A$ y $B$ independientes?, ¿Son $A$ y $C$ independientes? , ¿Son $B$ y $C$ independientes?\n"
   ]
  },
  {
   "cell_type": "code",
   "execution_count": 73,
   "metadata": {},
   "outputs": [
    {
     "name": "stdout",
     "output_type": "stream",
     "text": [
      "Dado que la p(B) = 1/6 y la 𝑝(B|A) = 1/6 y al ser iguales podemos decir A y B son independientes\n"
     ]
    }
   ],
   "source": [
    "pA = 5/11 # Casos favorables {3,5,7,9,11} y el total de casos {2,3,4,5,6,7,8,9,10,11,12}\n",
    "pB = 1/6 \n",
    "\n",
    "#Dos eventos son independientes si 𝑝(𝑋,𝑌)=𝑝(𝑋)𝑝(𝑌). y además 𝑝(𝑌)=𝑝(𝑌|𝑋)\n",
    "pINTAB = (5/11)*(1/6) # 𝑝(A,B)=𝑝(A)𝑝(B) \n",
    "\n",
    "#Por tanto 𝑝(𝑌)=𝑝(𝑌|𝑋) entonces p(Y) = p(X,Y)/p(X)\n",
    "\n",
    "pBA = pINTAB/pA  #pBA = p(B|A) = p(A,B)/p(A)\n",
    "\n",
    "print(\"Dado que la p(B) = {} y la 𝑝(B|A) = {} y al ser iguales podemos decir A y B son independientes\"\n",
    "      .format(Fraction(pB).limit_denominator(),Fraction(pBA).limit_denominator()))\n",
    "\n"
   ]
  },
  {
   "cell_type": "code",
   "execution_count": 74,
   "metadata": {},
   "outputs": [
    {
     "name": "stdout",
     "output_type": "stream",
     "text": [
      "Dado que la p(B) = 1/6 y la 𝑝(B|A) = 1/6 y al ser iguales podemos decir A y C son independientes\n"
     ]
    }
   ],
   "source": [
    "pA = 5/11 # Casos favorables {3,5,7,9,11} y el total de casos {2,3,4,5,6,7,8,9,10,11,12}\n",
    "pC = 6/36 # debido a que hay 6 posibilidades de obtener 7 de la suma de las caras y 36 porque hay 36 combinaciones posibles  \n",
    "\n",
    "#Dos eventos son independientes si 𝑝(𝑋,𝑌)=𝑝(𝑋)𝑝(𝑌). y además 𝑝(𝑌)=𝑝(𝑌|𝑋)\n",
    "pINTAB = (5/11)*(1/11) # 𝑝(A,C)=𝑝(A)𝑝(C) \n",
    "\n",
    "#Por tanto 𝑝(𝑌)=𝑝(𝑌|𝑋) entonces p(Y) = p(X,Y)/p(X)\n",
    "\n",
    "pCA = pINTAB/pA  #pCA = p(C|A) = p(A,C)/p(A)\n",
    "\n",
    "print(\"Dado que la p(B) = {} y la 𝑝(B|A) = {} y al ser iguales podemos decir A y C son independientes\".format(Fraction(pC).limit_denominator(),Fraction(pBA).limit_denominator()))"
   ]
  },
  {
   "cell_type": "code",
   "execution_count": 75,
   "metadata": {},
   "outputs": [
    {
     "name": "stdout",
     "output_type": "stream",
     "text": [
      "Dado que la p(C) = 1/6 y la 𝑝(B|C) = 1/6 y al ser iguales podemos decir B y C son independientes\n"
     ]
    }
   ],
   "source": [
    "pC = 6/36  # Casos favorables {3,5,7,9,11} y el total de casos {2,3,4,5,6,7,8,9,10,11,12}\n",
    "pB = 1/6 \n",
    "\n",
    "#Dos eventos son independientes si 𝑝(𝑋,𝑌)=𝑝(𝑋)𝑝(𝑌). y además 𝑝(𝑌)=𝑝(𝑌|𝑋)\n",
    "pINTBC = (6/36)*(1/6) # 𝑝(A,B)=𝑝(A)𝑝(B) \n",
    "\n",
    "#Por tanto 𝑝(𝑌)=𝑝(𝑌|𝑋) entonces p(Y) = p(X,Y)/p(X)\n",
    "\n",
    "pBC = pINTBC/pC  #pBC = p(B|C) = p(C,B)/p(C)\n",
    "\n",
    "print(\"Dado que la p(C) = {} y la 𝑝(B|C) = {} y al ser iguales podemos decir B y C son independientes\".format(Fraction(pC).limit_denominator(),Fraction(pBC).limit_denominator()))"
   ]
  },
  {
   "cell_type": "markdown",
   "metadata": {},
   "source": [
    "4. La distribución de probabilidad de una variable aleatoria $Y$ está dada por la siguiente tabla. Suponga que se realizó un experimento donde se obtuvieron 4 millones de valores observados de $Y$. Con base en estos valores y las distribución de probabilidad de $Y$ encuentre su valor esperado.\n",
    "\n",
    "\n",
    "| y | p(y) \n",
    "|--- | --- \n",
    "|0|1/8\n",
    "|1|1/4\n",
    "|2|3/8\n",
    "|3|1/4\n",
    "\n"
   ]
  },
  {
   "cell_type": "markdown",
   "metadata": {},
   "source": [
    "Para calcular el valor esperado o Esperanza matemática se parte de la siguiente formula\n",
    ">>$\n",
    "\\mathbb{E}\\left(X\\right)\\cong\\frac{1}{N}\\sum \\limits _{i=1}^{N}x_i\n",
    "$ \n",
    "\n",
    "Por tanto la ecuación anterior se puede remplazar la consiguiente:\n",
    "    ((1*(1/4))+(2*(3/8))+(3*(1/4)))/4000000\n"
   ]
  },
  {
   "cell_type": "code",
   "execution_count": 71,
   "metadata": {},
   "outputs": [
    {
     "name": "stdout",
     "output_type": "stream",
     "text": [
      "La esperanza o valor esperado para Y es de : 4.375e-07\n"
     ]
    }
   ],
   "source": [
    "print(\"La esperanza o valor esperado para Y es de : {}\".format(((1*(1/4))+(2*(3/8))+(3*(1/4)))/4000000))"
   ]
  }
 ],
 "metadata": {
  "kernelspec": {
   "display_name": "Python 3",
   "language": "python",
   "name": "python3"
  },
  "language_info": {
   "codemirror_mode": {
    "name": "ipython",
    "version": 3
   },
   "file_extension": ".py",
   "mimetype": "text/x-python",
   "name": "python",
   "nbconvert_exporter": "python",
   "pygments_lexer": "ipython3",
   "version": "3.7.3"
  }
 },
 "nbformat": 4,
 "nbformat_minor": 2
}
