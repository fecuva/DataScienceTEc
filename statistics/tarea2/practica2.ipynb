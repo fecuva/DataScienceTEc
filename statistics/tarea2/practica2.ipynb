{
 "cells": [
  {
   "cell_type": "markdown",
   "metadata": {
    "colab_type": "text",
    "id": "klwGdXZXpF5p"
   },
   "source": [
    "# Estadísticas descriptivas básicas\n",
    "\n",
    "##Ejercicio 1\n",
    "\n",
    "Carge el dataset \"embarazo\" relacionado con las respuestas de un grupo de mujeres a una encuesta de salud sexual y reproductiva.\n",
    "\n",
    "Describa las variables edad y hvivos (hijos nacidos vivos)"
   ]
  },
  {
   "cell_type": "code",
   "execution_count": 0,
   "metadata": {
    "colab": {},
    "colab_type": "code",
    "id": "UQZ_3IssqXYQ"
   },
   "outputs": [],
   "source": [
    "\n",
    "# Load the Drive helper and mount\n",
    "from google.colab import drive\n",
    "#pandas library for reading csvs\n",
    "from pandas import read_csv\n",
    "\n",
    "\n",
    "\n",
    "#Autorizacion para tener acceso al drive\n",
    "drive.mount('/content/drive')\n",
    "\n",
    "#Lista los Colab Notebooks \n",
    "!ls \"/content/drive/My Drive/Colab Notebooks/\"\n",
    "\n",
    "embarazo = '/content/drive/My Drive/Colab Notebooks/embarazo.csv'\n",
    "\n",
    "\n",
    "#lee el dataset csv\n",
    "dataset = read_csv(embarazo, sep=';')\n",
    "\n",
    "# print las primeras 20 filas del dataset\n",
    "print(dataset.head(20))\n",
    "#tipo de atributos\n",
    "dataset.dtypes\n",
    "\n",
    "#nombre de los atributos\n",
    "dataset.columns\n",
    "\n",
    "#print estadisticas descriptivas de los atributos edad y hvivos\n",
    "print(dataset['edad'].describe())\n",
    "print(dataset['hvivos'].describe())\n",
    "\n",
    "#para llamar una entrada específica de datos\n",
    "\n",
    "#seleccionar columnas\n",
    "print(dataset.iloc[: ,1:4])\n",
    "\n",
    "\n",
    "#seleccionar filas\n",
    "\n",
    "print(dataset.iloc[5:10,:])\n",
    "print(dataset.iloc[0:2,1:3])\n",
    "\n"
   ]
  },
  {
   "cell_type": "markdown",
   "metadata": {
    "colab_type": "text",
    "id": "A1iQhN1m6jk3"
   },
   "source": [
    "##Ejercicio 2\n",
    "\n",
    "Construya un histograma para los atributos edad y hvivos"
   ]
  },
  {
   "cell_type": "code",
   "execution_count": 0,
   "metadata": {
    "colab": {},
    "colab_type": "code",
    "id": "aE4B1hmY61f0"
   },
   "outputs": [],
   "source": [
    "\n",
    "\n",
    "import numpy as np\n",
    "import matplotlib.pyplot as plt\n",
    "  \n",
    "plt.subplot(121)\n",
    "p1 = plt.hist(dataset.edad, bins=15)\n",
    "  \n",
    "plt.subplot(122)\n",
    "p2 = plt.hist(dataset.hvivos, bins=10)\n"
   ]
  },
  {
   "cell_type": "code",
   "execution_count": 0,
   "metadata": {
    "colab": {},
    "colab_type": "code",
    "id": "uSkCV3KI7MOv"
   },
   "outputs": [],
   "source": []
  },
  {
   "cell_type": "markdown",
   "metadata": {
    "colab_type": "text",
    "id": "3DhLMy_GFEac"
   },
   "source": [
    "##Ejercicio 3\n",
    "\n",
    "Construya diagramas de cajas y bigotes para los atributos"
   ]
  },
  {
   "cell_type": "code",
   "execution_count": 0,
   "metadata": {
    "colab": {},
    "colab_type": "code",
    "id": "4EP29lTCKiWx"
   },
   "outputs": [],
   "source": [
    "plt.subplot(121)\n",
    "plt.boxplot(dataset.edad)\n",
    "#title('Edad')\n",
    "\n",
    "plt.subplot(122)\n",
    "plt.boxplot(dataset.hvivos)\n",
    "#title('Hijos vivos')"
   ]
  },
  {
   "cell_type": "markdown",
   "metadata": {
    "colab_type": "text",
    "id": "vsFtW2sgVD_O"
   },
   "source": [
    "##Ejercicio 4\n",
    "\n",
    "Construya un diagrama de dispersión con las variables edad y hvivos que describa la relación lineal entre ellas y calcule su covarianza y coeficiente de correlación de Pearson.\n"
   ]
  },
  {
   "cell_type": "code",
   "execution_count": 0,
   "metadata": {
    "colab": {},
    "colab_type": "code",
    "id": "xsBwZAY0VdaB"
   },
   "outputs": [],
   "source": [
    "\n",
    "plt.scatter(dataset['deseados'],dataset['hvivos'])\n",
    "plt.xlabel('edad')\n",
    "plt.ylabel('hvivos')\n",
    "plt.show()\n",
    "\n",
    "covarianza = dataset.cov()['edad']['hvivos']\n",
    "print(covarianza)\n",
    "\n",
    "rho = dataset.corr(method=\"pearson\")['edad']['hvivos']\n",
    "print(rho)\n"
   ]
  }
 ],
 "metadata": {
  "colab": {
   "collapsed_sections": [],
   "name": "practica2.ipynb",
   "provenance": []
  },
  "kernelspec": {
   "display_name": "Python 3",
   "language": "python",
   "name": "python3"
  },
  "language_info": {
   "codemirror_mode": {
    "name": "ipython",
    "version": 3
   },
   "file_extension": ".py",
   "mimetype": "text/x-python",
   "name": "python",
   "nbconvert_exporter": "python",
   "pygments_lexer": "ipython3",
   "version": "3.7.3"
  }
 },
 "nbformat": 4,
 "nbformat_minor": 1
}
