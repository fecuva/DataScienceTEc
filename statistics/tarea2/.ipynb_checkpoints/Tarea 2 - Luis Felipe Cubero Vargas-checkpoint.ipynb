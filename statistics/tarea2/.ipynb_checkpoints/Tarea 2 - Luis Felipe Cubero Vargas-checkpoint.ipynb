{
 "cells": [
  {
   "cell_type": "markdown",
   "metadata": {},
   "source": [
    "# Tarea 2\n",
    "\n",
    "### Luis Felipe Cubero Vargas"
   ]
  },
  {
   "cell_type": "code",
   "execution_count": 1,
   "metadata": {},
   "outputs": [],
   "source": [
    "import pandas as pd\n",
    "import numpy as np"
   ]
  },
  {
   "cell_type": "code",
   "execution_count": 2,
   "metadata": {},
   "outputs": [],
   "source": [
    "df = pd.read_csv(\"CompraBicicletas.csv\",sep = \";\")"
   ]
  },
  {
   "cell_type": "code",
   "execution_count": 3,
   "metadata": {},
   "outputs": [
    {
     "data": {
      "text/plain": [
       "Index(['ID', 'MaritalStatus', 'Gender', 'Income', 'Children', 'Education',\n",
       "       'Occupation', 'HomeOwner', 'Cars', 'CommuteDistance', 'Region', 'Age',\n",
       "       'PurchasedBike'],\n",
       "      dtype='object')"
      ]
     },
     "execution_count": 3,
     "metadata": {},
     "output_type": "execute_result"
    }
   ],
   "source": [
    "df.columns"
   ]
  },
  {
   "cell_type": "code",
   "execution_count": 4,
   "metadata": {},
   "outputs": [
    {
     "data": {
      "text/html": [
       "<div>\n",
       "<style scoped>\n",
       "    .dataframe tbody tr th:only-of-type {\n",
       "        vertical-align: middle;\n",
       "    }\n",
       "\n",
       "    .dataframe tbody tr th {\n",
       "        vertical-align: top;\n",
       "    }\n",
       "\n",
       "    .dataframe thead th {\n",
       "        text-align: right;\n",
       "    }\n",
       "</style>\n",
       "<table border=\"1\" class=\"dataframe\">\n",
       "  <thead>\n",
       "    <tr style=\"text-align: right;\">\n",
       "      <th></th>\n",
       "      <th>ID</th>\n",
       "      <th>MaritalStatus</th>\n",
       "      <th>Gender</th>\n",
       "      <th>Income</th>\n",
       "      <th>Children</th>\n",
       "      <th>Education</th>\n",
       "      <th>Occupation</th>\n",
       "      <th>HomeOwner</th>\n",
       "      <th>Cars</th>\n",
       "      <th>CommuteDistance</th>\n",
       "      <th>Region</th>\n",
       "      <th>Age</th>\n",
       "      <th>PurchasedBike</th>\n",
       "    </tr>\n",
       "  </thead>\n",
       "  <tbody>\n",
       "    <tr>\n",
       "      <th>0</th>\n",
       "      <td>12496</td>\n",
       "      <td>Married</td>\n",
       "      <td>Female</td>\n",
       "      <td>40000</td>\n",
       "      <td>1</td>\n",
       "      <td>Bachelors</td>\n",
       "      <td>SkilledManual</td>\n",
       "      <td>Yes</td>\n",
       "      <td>0</td>\n",
       "      <td>0-1Miles</td>\n",
       "      <td>Europe</td>\n",
       "      <td>42</td>\n",
       "      <td>No</td>\n",
       "    </tr>\n",
       "    <tr>\n",
       "      <th>1</th>\n",
       "      <td>24107</td>\n",
       "      <td>Married</td>\n",
       "      <td>Male</td>\n",
       "      <td>30000</td>\n",
       "      <td>3</td>\n",
       "      <td>PartialCollege</td>\n",
       "      <td>Clerical</td>\n",
       "      <td>Yes</td>\n",
       "      <td>1</td>\n",
       "      <td>0-1Miles</td>\n",
       "      <td>Europe</td>\n",
       "      <td>43</td>\n",
       "      <td>No</td>\n",
       "    </tr>\n",
       "    <tr>\n",
       "      <th>2</th>\n",
       "      <td>14177</td>\n",
       "      <td>Married</td>\n",
       "      <td>Male</td>\n",
       "      <td>80000</td>\n",
       "      <td>5</td>\n",
       "      <td>PartialCollege</td>\n",
       "      <td>Professional</td>\n",
       "      <td>No</td>\n",
       "      <td>2</td>\n",
       "      <td>2-5Miles</td>\n",
       "      <td>Europe</td>\n",
       "      <td>60</td>\n",
       "      <td>No</td>\n",
       "    </tr>\n",
       "    <tr>\n",
       "      <th>3</th>\n",
       "      <td>24381</td>\n",
       "      <td>Single</td>\n",
       "      <td>Male</td>\n",
       "      <td>70000</td>\n",
       "      <td>0</td>\n",
       "      <td>Bachelors</td>\n",
       "      <td>Professional</td>\n",
       "      <td>Yes</td>\n",
       "      <td>1</td>\n",
       "      <td>5-10Miles</td>\n",
       "      <td>Pacific</td>\n",
       "      <td>41</td>\n",
       "      <td>Yes</td>\n",
       "    </tr>\n",
       "    <tr>\n",
       "      <th>4</th>\n",
       "      <td>25597</td>\n",
       "      <td>Single</td>\n",
       "      <td>Male</td>\n",
       "      <td>30000</td>\n",
       "      <td>0</td>\n",
       "      <td>Bachelors</td>\n",
       "      <td>Clerical</td>\n",
       "      <td>No</td>\n",
       "      <td>0</td>\n",
       "      <td>0-1Miles</td>\n",
       "      <td>Europe</td>\n",
       "      <td>36</td>\n",
       "      <td>Yes</td>\n",
       "    </tr>\n",
       "  </tbody>\n",
       "</table>\n",
       "</div>"
      ],
      "text/plain": [
       "      ID MaritalStatus  Gender  Income  Children       Education  \\\n",
       "0  12496       Married  Female   40000         1       Bachelors   \n",
       "1  24107       Married    Male   30000         3  PartialCollege   \n",
       "2  14177       Married    Male   80000         5  PartialCollege   \n",
       "3  24381        Single    Male   70000         0       Bachelors   \n",
       "4  25597        Single    Male   30000         0       Bachelors   \n",
       "\n",
       "      Occupation HomeOwner  Cars CommuteDistance   Region  Age PurchasedBike  \n",
       "0  SkilledManual       Yes     0        0-1Miles   Europe   42            No  \n",
       "1       Clerical       Yes     1        0-1Miles   Europe   43            No  \n",
       "2   Professional        No     2        2-5Miles   Europe   60            No  \n",
       "3   Professional       Yes     1       5-10Miles  Pacific   41           Yes  \n",
       "4       Clerical        No     0        0-1Miles   Europe   36           Yes  "
      ]
     },
     "execution_count": 4,
     "metadata": {},
     "output_type": "execute_result"
    }
   ],
   "source": [
    "df.head()"
   ]
  },
  {
   "cell_type": "markdown",
   "metadata": {},
   "source": [
    "Revisión de datos perdidos dentro del dataset"
   ]
  },
  {
   "cell_type": "code",
   "execution_count": 5,
   "metadata": {},
   "outputs": [
    {
     "data": {
      "text/plain": [
       "ID                 0\n",
       "MaritalStatus      0\n",
       "Gender             0\n",
       "Income             0\n",
       "Children           0\n",
       "Education          0\n",
       "Occupation         0\n",
       "HomeOwner          0\n",
       "Cars               0\n",
       "CommuteDistance    0\n",
       "Region             0\n",
       "Age                0\n",
       "PurchasedBike      0\n",
       "dtype: int64"
      ]
     },
     "execution_count": 5,
     "metadata": {},
     "output_type": "execute_result"
    }
   ],
   "source": [
    "df.isna().sum()"
   ]
  },
  {
   "cell_type": "markdown",
   "metadata": {},
   "source": [
    "A partir de lo anterior no existen datos perdidos, podemos proseguir con el análisis"
   ]
  },
  {
   "cell_type": "code",
   "execution_count": 6,
   "metadata": {},
   "outputs": [
    {
     "data": {
      "text/plain": [
       "count      1000.000000\n",
       "mean      56140.000000\n",
       "std       31081.609779\n",
       "min       10000.000000\n",
       "25%       30000.000000\n",
       "50%       60000.000000\n",
       "75%       70000.000000\n",
       "max      170000.000000\n",
       "Name: Income, dtype: float64"
      ]
     },
     "execution_count": 6,
     "metadata": {},
     "output_type": "execute_result"
    }
   ],
   "source": [
    "df[\"Income\"].describe()"
   ]
  },
  {
   "cell_type": "markdown",
   "metadata": {},
   "source": [
    "1) De lo anterior obtenemos que \n",
    "\n",
    "* Rango: 10,000 a 17,000\n",
    "* Media: 56,140\n",
    "* Desviación estandar: 31081\n",
    "\n",
    "2) También sabemos que el 25% de las personas ganan menos de 30,000\n",
    "\n",
    "\n",
    "\n",
    "\n",
    "\n"
   ]
  },
  {
   "cell_type": "code",
   "execution_count": 7,
   "metadata": {},
   "outputs": [
    {
     "name": "stdout",
     "output_type": "stream",
     "text": [
      "La mediana del Income es de 60000.0\n"
     ]
    },
    {
     "data": {
      "text/plain": [
       "<matplotlib.axes._subplots.AxesSubplot at 0x2b847e88438>"
      ]
     },
     "execution_count": 7,
     "metadata": {},
     "output_type": "execute_result"
    }
   ],
   "source": [
    "print(f'La mediana del Income es de {df[\"Income\"].median()}')\n",
    "df[\"Income\"].hist()"
   ]
  },
  {
   "cell_type": "markdown",
   "metadata": {},
   "source": [
    "Dado que la mediana es de 60,000 y la media de de 56,140 no presenta una distribución simétrica, presenta una asimetría hacia la derecha  "
   ]
  },
  {
   "cell_type": "markdown",
   "metadata": {},
   "source": [
    "Ahora es necesario obtener los elementos descripitivos para la variables Children, Cars y Age, con lo cual usaremos la función describe de pandas\n",
    "\n"
   ]
  },
  {
   "cell_type": "code",
   "execution_count": 8,
   "metadata": {},
   "outputs": [
    {
     "data": {
      "text/html": [
       "<div>\n",
       "<style scoped>\n",
       "    .dataframe tbody tr th:only-of-type {\n",
       "        vertical-align: middle;\n",
       "    }\n",
       "\n",
       "    .dataframe tbody tr th {\n",
       "        vertical-align: top;\n",
       "    }\n",
       "\n",
       "    .dataframe thead th {\n",
       "        text-align: right;\n",
       "    }\n",
       "</style>\n",
       "<table border=\"1\" class=\"dataframe\">\n",
       "  <thead>\n",
       "    <tr style=\"text-align: right;\">\n",
       "      <th></th>\n",
       "      <th>Children</th>\n",
       "      <th>Cars</th>\n",
       "      <th>Age</th>\n",
       "    </tr>\n",
       "  </thead>\n",
       "  <tbody>\n",
       "    <tr>\n",
       "      <th>count</th>\n",
       "      <td>1000.000000</td>\n",
       "      <td>1000.000000</td>\n",
       "      <td>1000.000000</td>\n",
       "    </tr>\n",
       "    <tr>\n",
       "      <th>mean</th>\n",
       "      <td>1.908000</td>\n",
       "      <td>1.452000</td>\n",
       "      <td>44.190000</td>\n",
       "    </tr>\n",
       "    <tr>\n",
       "      <th>std</th>\n",
       "      <td>1.626094</td>\n",
       "      <td>1.124705</td>\n",
       "      <td>11.353537</td>\n",
       "    </tr>\n",
       "    <tr>\n",
       "      <th>min</th>\n",
       "      <td>0.000000</td>\n",
       "      <td>0.000000</td>\n",
       "      <td>25.000000</td>\n",
       "    </tr>\n",
       "    <tr>\n",
       "      <th>25%</th>\n",
       "      <td>0.000000</td>\n",
       "      <td>1.000000</td>\n",
       "      <td>35.000000</td>\n",
       "    </tr>\n",
       "    <tr>\n",
       "      <th>50%</th>\n",
       "      <td>2.000000</td>\n",
       "      <td>1.000000</td>\n",
       "      <td>43.000000</td>\n",
       "    </tr>\n",
       "    <tr>\n",
       "      <th>75%</th>\n",
       "      <td>3.000000</td>\n",
       "      <td>2.000000</td>\n",
       "      <td>52.000000</td>\n",
       "    </tr>\n",
       "    <tr>\n",
       "      <th>max</th>\n",
       "      <td>5.000000</td>\n",
       "      <td>4.000000</td>\n",
       "      <td>89.000000</td>\n",
       "    </tr>\n",
       "  </tbody>\n",
       "</table>\n",
       "</div>"
      ],
      "text/plain": [
       "          Children         Cars          Age\n",
       "count  1000.000000  1000.000000  1000.000000\n",
       "mean      1.908000     1.452000    44.190000\n",
       "std       1.626094     1.124705    11.353537\n",
       "min       0.000000     0.000000    25.000000\n",
       "25%       0.000000     1.000000    35.000000\n",
       "50%       2.000000     1.000000    43.000000\n",
       "75%       3.000000     2.000000    52.000000\n",
       "max       5.000000     4.000000    89.000000"
      ]
     },
     "execution_count": 8,
     "metadata": {},
     "output_type": "execute_result"
    }
   ],
   "source": [
    "df[[ 'Children', 'Cars' ,'Age']].describe()"
   ]
  },
  {
   "cell_type": "markdown",
   "metadata": {},
   "source": [
    "De lo anterior podemos ver que el 75% de las personas tiene menos de 3, hijos. Con una media de 1.9 hijos, y 1.4 carros por persona y la edad promedio de 44 años."
   ]
  },
  {
   "cell_type": "code",
   "execution_count": 22,
   "metadata": {},
   "outputs": [
    {
     "data": {
      "text/plain": [
       "Text(0.5, 1.0, 'Cars')"
      ]
     },
     "execution_count": 22,
     "metadata": {},
     "output_type": "execute_result"
    },
    {
     "data": {
      "image/png": "[encoded data removed]",
      "text/plain": [
       "<Figure size 432x288 with 4 Axes>"
      ]
     },
     "metadata": {
      "needs_background": "light"
     },
     "output_type": "display_data"
    }
   ],
   "source": [
    "\n",
    "\n",
    "import numpy as np\n",
    "import matplotlib.pyplot as plt\n",
    " \n",
    "plt.subplots(nrows=4, ncols=4)    \n",
    "plt.subplots_adjust(top=0.92, bottom=0.08, left=0.10, right=0.95, hspace=0.35,wspace=0.50)\n",
    "plt.subplot(221)\n",
    "p1 = plt.hist(df.Income, bins=5)\n",
    "plt.title('Income')\n",
    "plt.subplot(222)\n",
    "p2 = plt.hist(df.Children, bins=6)\n",
    "plt.title('Cantidad de hijos')\n",
    "plt.subplot(223)\n",
    "p3 = plt.hist(df.Age, bins=10)\n",
    "plt.title('Edad')\n",
    "plt.subplot(224)\n",
    "p2 = plt.hist(df.Cars, bins=5)\n",
    "plt.title('Cars')"
   ]
  },
  {
   "cell_type": "markdown",
   "metadata": {},
   "source": [
    "7) De las gráficas anteriores podemos ver que que todas se encuentran sesgadas hacía la derecha\n",
    "\n",
    "7) A partir de los graficos anteriores, ninguno sigue una distribución normal\n",
    "\n",
    "8) De estás solo la cantidad de hijos parece seguir una distribución simetrica, las otras tres variables presentan simetria  \n"
   ]
  },
  {
   "cell_type": "code",
   "execution_count": 10,
   "metadata": {},
   "outputs": [
    {
     "data": {
      "text/plain": [
       "Text(0.5, 1.0, 'Cars')"
      ]
     },
     "execution_count": 10,
     "metadata": {},
     "output_type": "execute_result"
    },
    {
     "data": {
      "image/png": "[encoded data removed]",
      "text/plain": [
       "<Figure size 432x288 with 4 Axes>"
      ]
     },
     "metadata": {
      "needs_background": "light"
     },
     "output_type": "display_data"
    }
   ],
   "source": [
    "plt.subplots(nrows=4, ncols=4)    \n",
    "plt.subplots_adjust(top=0.92, bottom=0.08, left=0.10, right=0.95, hspace=0.35,wspace=0.50)\n",
    "\n",
    "plt.subplot(221)\n",
    "p1 = plt.boxplot(df.Income)\n",
    "plt.title('Income')\n",
    "plt.subplot(222)\n",
    "p2 = plt.boxplot(df.Children)\n",
    "plt.title('Cantidad de hijos')\n",
    "plt.subplot(223)\n",
    "p3 = plt.boxplot(df.Age)\n",
    "plt.title('Edad')\n",
    "plt.subplot(224)\n",
    "p2 = plt.boxplot(df.Cars)\n",
    "plt.title('Cars')"
   ]
  },
  {
   "cell_type": "markdown",
   "metadata": {},
   "source": [
    "La variable que presenta mayor dispersión es la cantidad de hijos dado que su caja es la que tiene la media con mayor desplazamiento con respecto a los cuartiles."
   ]
  },
  {
   "cell_type": "code",
   "execution_count": 25,
   "metadata": {},
   "outputs": [
    {
     "name": "stdout",
     "output_type": "stream",
     "text": [
      "La varianza del Income es de :966066466.4664664\n",
      "La varianza de la cantidad de hijos es de :2.64418018018018\n",
      "La varianza de los años es de :128.9028028028028\n",
      "La varianza de la cantidad de carros es de :1.2649609609609611\n"
     ]
    }
   ],
   "source": [
    "df.Income.var()\n",
    "print(f\"La varianza del Income es de :{df.Income.var()}\")\n",
    "df.Children.var()\n",
    "print(f\"La varianza de la cantidad de hijos es de :{df.Children.var()}\")\n",
    "df.Age.var()\n",
    "print(f\"La varianza de los años es de :{df.Age.var()}\")\n",
    "df.Cars.var()\n",
    "print(f\"La varianza de la cantidad de carros es de :{df.Cars.var()}\")\n",
    "\n"
   ]
  },
  {
   "cell_type": "markdown",
   "metadata": {},
   "source": [
    "Ahora para generar la matriz de covarianza"
   ]
  },
  {
   "cell_type": "code",
   "execution_count": 28,
   "metadata": {},
   "outputs": [
    {
     "data": {
      "text/html": [
       "<div>\n",
       "<style scoped>\n",
       "    .dataframe tbody tr th:only-of-type {\n",
       "        vertical-align: middle;\n",
       "    }\n",
       "\n",
       "    .dataframe tbody tr th {\n",
       "        vertical-align: top;\n",
       "    }\n",
       "\n",
       "    .dataframe thead th {\n",
       "        text-align: right;\n",
       "    }\n",
       "</style>\n",
       "<table border=\"1\" class=\"dataframe\">\n",
       "  <thead>\n",
       "    <tr style=\"text-align: right;\">\n",
       "      <th></th>\n",
       "      <th>Income</th>\n",
       "      <th>Children</th>\n",
       "      <th>Cars</th>\n",
       "      <th>Age</th>\n",
       "    </tr>\n",
       "  </thead>\n",
       "  <tbody>\n",
       "    <tr>\n",
       "      <th>Income</th>\n",
       "      <td>9.660665e+08</td>\n",
       "      <td>13067.947948</td>\n",
       "      <td>15650.370370</td>\n",
       "      <td>59683.083083</td>\n",
       "    </tr>\n",
       "    <tr>\n",
       "      <th>Children</th>\n",
       "      <td>1.306795e+04</td>\n",
       "      <td>2.644180</td>\n",
       "      <td>0.501085</td>\n",
       "      <td>9.796276</td>\n",
       "    </tr>\n",
       "    <tr>\n",
       "      <th>Cars</th>\n",
       "      <td>1.565037e+04</td>\n",
       "      <td>0.501085</td>\n",
       "      <td>1.264961</td>\n",
       "      <td>2.433554</td>\n",
       "    </tr>\n",
       "    <tr>\n",
       "      <th>Age</th>\n",
       "      <td>5.968308e+04</td>\n",
       "      <td>9.796276</td>\n",
       "      <td>2.433554</td>\n",
       "      <td>128.902803</td>\n",
       "    </tr>\n",
       "  </tbody>\n",
       "</table>\n",
       "</div>"
      ],
      "text/plain": [
       "                Income      Children          Cars           Age\n",
       "Income    9.660665e+08  13067.947948  15650.370370  59683.083083\n",
       "Children  1.306795e+04      2.644180      0.501085      9.796276\n",
       "Cars      1.565037e+04      0.501085      1.264961      2.433554\n",
       "Age       5.968308e+04      9.796276      2.433554    128.902803"
      ]
     },
     "execution_count": 28,
     "metadata": {},
     "output_type": "execute_result"
    }
   ],
   "source": [
    "df[['Income','Children', 'Cars' ,'Age']].cov()"
   ]
  },
  {
   "cell_type": "markdown",
   "metadata": {},
   "source": [
    "Por último realizar una correlación de Pearson para las variables de la cantidad de hijos y la edad"
   ]
  },
  {
   "cell_type": "code",
   "execution_count": 30,
   "metadata": {},
   "outputs": [
    {
     "data": {
      "text/plain": [
       "0.5306208629857723"
      ]
     },
     "execution_count": 30,
     "metadata": {},
     "output_type": "execute_result"
    }
   ],
   "source": [
    "df.corr(method=\"pearson\")['Age']['Children']"
   ]
  },
  {
   "cell_type": "markdown",
   "metadata": {},
   "source": [
    "La correlación anterior nos indica que conforme aumenta la edad de hijos incrementa, no obstante, no es una correlación muy alta pero tampoco tan baja lo cual nos puede dar una idea que de que no siempre la edad implica mayor cantidad de hijos, ya que puede tener más hijos a poca edad o menos hijos aunque mayor edad"
   ]
  }
 ],
 "metadata": {
  "kernelspec": {
   "display_name": "Python 3",
   "language": "python",
   "name": "python3"
  },
  "language_info": {
   "codemirror_mode": {
    "name": "ipython",
    "version": 3
   },
   "file_extension": ".py",
   "mimetype": "text/x-python",
   "name": "python",
   "nbconvert_exporter": "python",
   "pygments_lexer": "ipython3",
   "version": "3.7.3"
  }
 },
 "nbformat": 4,
 "nbformat_minor": 2
}
