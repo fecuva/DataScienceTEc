{
 "cells": [
  {
   "cell_type": "markdown",
   "metadata": {},
   "source": [
    "# Tarea 1\n",
    "\n",
    "Felipe Cubero Vargas"
   ]
  },
  {
   "cell_type": "code",
   "execution_count": 2,
   "metadata": {},
   "outputs": [],
   "source": [
    "from fractions import Fraction"
   ]
  },
  {
   "cell_type": "markdown",
   "metadata": {},
   "source": [
    "1.   Una agencia de bienes raíces tiene una base de datos de propiedades vendidas en la cuál rastrearon la cantidad de días que duró en concretarse la venta, además de su precio de venta (ver tabla). Basado en los datos responda los siguientes apartados. Responda todos los puntos utilizando ecuaciones únicamente.\n",
    "\n",
    " * Si $A$ es el evento de vender una casa en más de 90 días, estime la probabilidad de $A$ (5 puntos)\n",
    " * Si $B$ es el evento de vender una casa en menos de 50,000, estime la probablidad de $B$ (5 puntos)\n",
    " * ¿Cuál es la probabilidad de que $A$ y $B$ ocurran juntos? (5 puntos)\n",
    " * Si una casa se define que tiene un precio de menos de \\$50,000, ¿cuál es la probabilidad que tarde 90 o menos días en venderse? (5 puntos)\n",
    " * ¿Se puede considerar que los eventos $A$ y $B$ son independientes? (Demuestrelo matemáticamente) (10 puntos)\n",
    "  \n",
    "|| Menos de 30 días | De 31 a 90 | Más de 90 | Total\n",
    "|--- | --- | --- | --- |---\n",
    "|**Menos de \\$50,000**|50|40|10|100\n",
    "|**50,000 a 99,999**|20|150|80|250\n",
    "|**100,000 a 149,999**|20|280|100|400\n",
    "|**Más de 150,000**|10|10|30|50\n",
    "|**Total**|100|480|220|800"
   ]
  },
  {
   "cell_type": "code",
   "execution_count": 3,
   "metadata": {},
   "outputs": [
    {
     "name": "stdout",
     "output_type": "stream",
     "text": [
      "La probabilidad de vender una casa en más de 90 días es: 11/40\n"
     ]
    }
   ],
   "source": [
    "\n",
    "# La probabilidad de vender más una casa en más de 90 días es de:\n",
    "totalcasos90 = 220\n",
    "totalcasos = 800\n",
    "\n",
    "print(\"La probabilidad de vender una casa en más de 90 días es: {}\".\n",
    "      format(Fraction(totalcasos90/totalcasos).limit_denominator()))\n"
   ]
  },
  {
   "cell_type": "code",
   "execution_count": 4,
   "metadata": {},
   "outputs": [
    {
     "name": "stdout",
     "output_type": "stream",
     "text": [
      "La probabilidad de vender una casa en menos de 50,000: 1/8\n"
     ]
    }
   ],
   "source": [
    "casosdeb = 100\n",
    "print(\"La probabilidad de vender una casa en menos de 50,000: {}\".\n",
    "      format(Fraction(casosdeb/totalcasos).limit_denominator()))"
   ]
  },
  {
   "cell_type": "code",
   "execution_count": 5,
   "metadata": {},
   "outputs": [
    {
     "name": "stdout",
     "output_type": "stream",
     "text": [
      "La probabilidad de A y B ocurran en conjunto está dado por la probabilidad de A por la probabilidad de B.\n",
      " Por tanto la probabilidad es de 11/320\n"
     ]
    }
   ],
   "source": [
    "probabilidadAB = (casosdeb/totalcasos)*(totalcasos90/totalcasos)\n",
    "print(\"La probabilidad de A y B ocurran en conjunto está dado por la probabilidad de A por la probabilidad de B.\\n \\\n",
    "Por tanto la probabilidad es de {}\".format(Fraction(probabilidadAB).limit_denominator()))"
   ]
  },
  {
   "cell_type": "code",
   "execution_count": 6,
   "metadata": {},
   "outputs": [
    {
     "name": "stdout",
     "output_type": "stream",
     "text": [
      "La probabilidad de que tarde 90 o menos días en venderse es 9/10\n"
     ]
    }
   ],
   "source": [
    "casosdemenosde90 = 50+40\n",
    "totalcasosde50 = 100\n",
    "probabilidad = casosdemenosde90/totalcasosde50\n",
    "print(\"La probabilidad de que tarde 90 o menos días en venderse es {}\".format(Fraction(probabilidad).limit_denominator()))"
   ]
  },
  {
   "cell_type": "markdown",
   "metadata": {},
   "source": [
    "2. Hay tres aulas: en la N° 1 hay 8 mujeres y 4 hombres, en la N°2 hay 10 mujeres y 20 hombres, y en la N°3 hay 6 mujeres y 10 hombres. Se escoge un aula al azar y luego de ella se extrae al azar una persona. Si se sabe que la persona extraída es mujer, pero no se sabe de cuál aula proviene, ¿Cuál es la probabilidad de que ese persona provenga del aula N°3?"
   ]
  },
  {
   "cell_type": "code",
   "execution_count": 27,
   "metadata": {},
   "outputs": [
    {
     "name": "stdout",
     "output_type": "stream",
     "text": [
      "La probabilidad de sacar una mujer y fuera del aula 3 es: 9/29\n"
     ]
    }
   ],
   "source": [
    "#Esto es un caso de probabilidad condicional, En dónde la primera condición es la probabilidad de escoger el aula 3 y luego la probabilidad de que sea una mujer\n",
    "probabilidadaulatres = 1/3 #dado que el caso favorable es uno y el total de condiciones es 3\n",
    "probabilidaddesermujerA3 = 6/(8+4+10+20+6+10) # dado que el caso favorable es de 6 y la totalidad de condiciones es 10\n",
    "\n",
    "probabilidad = probabilidaddesermujerA3/probabilidadaulatres # P(A|B) = P(A ∩ B)/P(A) \n",
    "\n",
    "print(\"La probabilidad de sacar una mujer y fuera del aula 3 es: {}\".format(Fraction(probabilidad).limit_denominator()))\n",
    "\n"
   ]
  },
  {
   "cell_type": "markdown",
   "metadata": {},
   "source": [
    "3. Se lanzan dos dados. Sean: $A$= *suma de puntos impar*, $B$= *1 en el primer dado*, $C$= *suma de punto es igual a 7*. ¿Son $A$ y $B$ independientes?, ¿Son $A$ y $C$ independientes? , ¿Son $B$ y $C$ independientes?\n"
   ]
  },
  {
   "cell_type": "markdown",
   "metadata": {},
   "source": [
    "Dado que para que se cumpla A la suma de los puntos sea impar se debe sumar un impar con un par, por tanto se pueden ya que A no depende de B, dado que la probabilidad de sacar un numero impar en el primer dado es de 1/2. De otra forma A{3,5,7,11} puede tomar esos valores sin que salga un 1 en el primer dado\n",
    "\n",
    "A y C son independientes ya que A puede ser {3,5,11}, no obstante, A está contenido en C, ya que 7 es un numero impar\n",
    "\n",
    "\n",
    "B y C on independientes dado que 7 se puede generar de la suma en donde el dado puede tener Dado1 {2,3,4,5,6} y el dado2 {5,4,3,2,1}\n"
   ]
  },
  {
   "cell_type": "code",
   "execution_count": 32,
   "metadata": {},
   "outputs": [
    {
     "name": "stdout",
     "output_type": "stream",
     "text": [
      "0.06060606060606061\n"
     ]
    },
    {
     "data": {
      "text/plain": [
       "0.5"
      ]
     },
     "execution_count": 32,
     "metadata": {},
     "output_type": "execute_result"
    }
   ],
   "source": [
    "#1 {2,3,4,5,6,7,8,9,10,11,12} de los cuales las sumas impares son {3,5,7,11}\n",
    "PA = 4/11 \n",
    "PB = 1/6\n",
    "\n",
    "#Son independientes sí, P(PA ∩ PB) = P(PA)P(PB)\n",
    "X = PA*PB \n",
    "print(X)\n",
    "\n",
    "Y = (3/6)\n",
    "Y"
   ]
  },
  {
   "cell_type": "markdown",
   "metadata": {},
   "source": [
    "4. La distribución de probabilidad de una variable aleatoria $Y$ está dada por la siguiente tabla. Suponga que se realizó un experimento donde se obtuvieron 4 millones de valores observados de $Y$. Con base en estos valores y las distribución de probabilidad de $Y$ encuentre su valor esperado.\n",
    "\n",
    "\n",
    "| y | p(y) \n",
    "|--- | --- \n",
    "|0|1/8\n",
    "|1|1/4\n",
    "|2|3/8\n",
    "|3|1/4\n",
    "\n"
   ]
  },
  {
   "cell_type": "code",
   "execution_count": 33,
   "metadata": {},
   "outputs": [
    {
     "data": {
      "text/plain": [
       "1.0"
      ]
     },
     "execution_count": 33,
     "metadata": {},
     "output_type": "execute_result"
    }
   ],
   "source": [
    "(1/4)+(3/8)+(1/8)+(1/4)\n"
   ]
  },
  {
   "cell_type": "code",
   "execution_count": null,
   "metadata": {},
   "outputs": [],
   "source": []
  }
 ],
 "metadata": {
  "kernelspec": {
   "display_name": "Python 3",
   "language": "python",
   "name": "python3"
  },
  "language_info": {
   "codemirror_mode": {
    "name": "ipython",
    "version": 3
   },
   "file_extension": ".py",
   "mimetype": "text/x-python",
   "name": "python",
   "nbconvert_exporter": "python",
   "pygments_lexer": "ipython3",
   "version": "3.7.3"
  }
 },
 "nbformat": 4,
 "nbformat_minor": 2
}
