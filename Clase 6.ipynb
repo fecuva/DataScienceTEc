{
 "cells": [
  {
   "cell_type": "markdown",
   "metadata": {},
   "source": [
    "# CLASE 6\n",
    "\n",
    "\n",
    "Convolutional Neural Network  (CNN)\n",
    "EXTRA: se va hacia capsulenet\n",
    "\n",
    "\n",
    "back propagation: la derivada parcial del error con cada peso \n",
    "\n",
    "\n",
    "Se ha desmostrado que se use un training set, luego un validation en el que se ajustan hyperparametros ccon este y parece que se comportan mejor, y luego tengo un testing \n",
    "\n",
    "\n",
    "Es algo que esta fijo y algo que se mueve y la interaccion entre ellos me genera otra funcion\n",
    "}\n",
    "\n",
    "\n",
    "Pooling: reduccion de dimensionalidad de la salida de la convolución \n",
    "\n",
    "\n",
    "El filtro de convolución(kernel) yo defino el tamaño\n",
    "\n",
    "EL valor de los filtros son los pesos \n",
    "\n",
    "\n",
    "Dos factores nuevos: Stride (Tao, pixeles que avanza, tamaño del movimiento) & padding consiste en agregar un borde de 0\n",
    "\n",
    "Same tengo padding\n",
    "valid no tengo padding\n",
    "\n",
    "\n",
    "\n",
    "\n",
    "\n",
    "\n",
    "\n",
    "\n",
    "\n",
    "\n",
    "\n",
    "Con imagenes muy grandes, se puede utilizar una versión más pequeña, y la otra es jugar con los padding stride y el pooling \n",
    "\n",
    "aws elastic computer"
   ]
  }
 ],
 "metadata": {
  "kernelspec": {
   "display_name": "Python 3",
   "language": "python",
   "name": "python3"
  },
  "language_info": {
   "codemirror_mode": {
    "name": "ipython",
    "version": 3
   },
   "file_extension": ".py",
   "mimetype": "text/x-python",
   "name": "python",
   "nbconvert_exporter": "python",
   "pygments_lexer": "ipython3",
   "version": "3.7.3"
  }
 },
 "nbformat": 4,
 "nbformat_minor": 2
}
